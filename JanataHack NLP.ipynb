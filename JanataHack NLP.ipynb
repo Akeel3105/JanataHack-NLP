{
 "cells": [
  {
   "cell_type": "code",
   "execution_count": 2,
   "metadata": {},
   "outputs": [
    {
     "name": "stdout",
     "output_type": "stream",
     "text": [
      "Project name is: JanataHack NLP Hackathon\n"
     ]
    }
   ],
   "source": [
    "print(\"Project name is: JanataHack NLP Hackathon\")"
   ]
  },
  {
   "cell_type": "code",
   "execution_count": null,
   "metadata": {},
   "outputs": [],
   "source": [
    "# A brief of problem statement"
   ]
  },
  {
   "cell_type": "code",
   "execution_count": null,
   "metadata": {},
   "outputs": [],
   "source": [
    "'''\n",
    "Sentiment Analysis for Steam Reviews\n",
    "Steam is a video game digital distribution service with a vast community of gamers globally. A lot of gamers write reviews at \n",
    "the game page and have an option of choosing whether they would recommend this game to others or not. However, determining this\n",
    "sentiment automatically from text can help Steam to automatically tag such reviews extracted from other forums across the \n",
    "internet and can help them better judge the popularity of games.\n",
    "\n",
    "Given the review text with user recommendation and other information related to each game for 64 game titles, the task is to \n",
    "predict whether the reviewer recommended the game titles available in the test set on the basis of review text and other \n",
    "information.\n",
    "\n",
    "Game overview information for both train and test are available in single file game_overview.csv inside train.zip\n",
    "\n",
    "'''"
   ]
  },
  {
   "cell_type": "code",
   "execution_count": null,
   "metadata": {},
   "outputs": [],
   "source": [
    "# Importing required libraries"
   ]
  },
  {
   "cell_type": "code",
   "execution_count": 2,
   "metadata": {},
   "outputs": [],
   "source": [
    "import pandas as pd\n",
    "import numpy as np\n",
    "import seaborn as sns\n",
    "import matplotlib.pyplot as plt\n",
    "%matplotlib inline\n",
    "sns.set_style(\"whitegrid\")\n",
    "from nltk.stem import WordNetLemmatizer\n",
    "import re\n",
    "from textblob import TextBlob\n",
    "from nltk.corpus import stopwords"
   ]
  },
  {
   "cell_type": "code",
   "execution_count": null,
   "metadata": {},
   "outputs": [],
   "source": [
    "# Loading dataset"
   ]
  },
  {
   "cell_type": "code",
   "execution_count": 46,
   "metadata": {},
   "outputs": [],
   "source": [
    "train1=pd.read_csv(\"C://Users//acer//Desktop//1sem//python//JanatahackNLP//train.csv\")"
   ]
  },
  {
   "cell_type": "code",
   "execution_count": null,
   "metadata": {},
   "outputs": [],
   "source": [
    "# A few rows fro top"
   ]
  },
  {
   "cell_type": "code",
   "execution_count": 3,
   "metadata": {},
   "outputs": [
    {
     "data": {
      "text/html": [
       "<div>\n",
       "<style scoped>\n",
       "    .dataframe tbody tr th:only-of-type {\n",
       "        vertical-align: middle;\n",
       "    }\n",
       "\n",
       "    .dataframe tbody tr th {\n",
       "        vertical-align: top;\n",
       "    }\n",
       "\n",
       "    .dataframe thead th {\n",
       "        text-align: right;\n",
       "    }\n",
       "</style>\n",
       "<table border=\"1\" class=\"dataframe\">\n",
       "  <thead>\n",
       "    <tr style=\"text-align: right;\">\n",
       "      <th></th>\n",
       "      <th>review_id</th>\n",
       "      <th>title</th>\n",
       "      <th>year</th>\n",
       "      <th>user_review</th>\n",
       "      <th>user_suggestion</th>\n",
       "    </tr>\n",
       "  </thead>\n",
       "  <tbody>\n",
       "    <tr>\n",
       "      <th>0</th>\n",
       "      <td>1</td>\n",
       "      <td>Spooky's Jump Scare Mansion</td>\n",
       "      <td>2016.0</td>\n",
       "      <td>I'm scared and hearing creepy voices.  So I'll...</td>\n",
       "      <td>1</td>\n",
       "    </tr>\n",
       "    <tr>\n",
       "      <th>1</th>\n",
       "      <td>2</td>\n",
       "      <td>Spooky's Jump Scare Mansion</td>\n",
       "      <td>2016.0</td>\n",
       "      <td>Best game, more better than Sam Pepper's YouTu...</td>\n",
       "      <td>1</td>\n",
       "    </tr>\n",
       "    <tr>\n",
       "      <th>2</th>\n",
       "      <td>3</td>\n",
       "      <td>Spooky's Jump Scare Mansion</td>\n",
       "      <td>2016.0</td>\n",
       "      <td>A littly iffy on the controls, but once you kn...</td>\n",
       "      <td>1</td>\n",
       "    </tr>\n",
       "  </tbody>\n",
       "</table>\n",
       "</div>"
      ],
      "text/plain": [
       "   review_id                        title    year  \\\n",
       "0          1  Spooky's Jump Scare Mansion  2016.0   \n",
       "1          2  Spooky's Jump Scare Mansion  2016.0   \n",
       "2          3  Spooky's Jump Scare Mansion  2016.0   \n",
       "\n",
       "                                         user_review  user_suggestion  \n",
       "0  I'm scared and hearing creepy voices.  So I'll...                1  \n",
       "1  Best game, more better than Sam Pepper's YouTu...                1  \n",
       "2  A littly iffy on the controls, but once you kn...                1  "
      ]
     },
     "execution_count": 3,
     "metadata": {},
     "output_type": "execute_result"
    }
   ],
   "source": [
    "train1.head(3)"
   ]
  },
  {
   "cell_type": "code",
   "execution_count": null,
   "metadata": {},
   "outputs": [],
   "source": [
    "# A few rows from bottom"
   ]
  },
  {
   "cell_type": "code",
   "execution_count": 4,
   "metadata": {},
   "outputs": [
    {
     "data": {
      "text/html": [
       "<div>\n",
       "<style scoped>\n",
       "    .dataframe tbody tr th:only-of-type {\n",
       "        vertical-align: middle;\n",
       "    }\n",
       "\n",
       "    .dataframe tbody tr th {\n",
       "        vertical-align: top;\n",
       "    }\n",
       "\n",
       "    .dataframe thead th {\n",
       "        text-align: right;\n",
       "    }\n",
       "</style>\n",
       "<table border=\"1\" class=\"dataframe\">\n",
       "  <thead>\n",
       "    <tr style=\"text-align: right;\">\n",
       "      <th></th>\n",
       "      <th>review_id</th>\n",
       "      <th>title</th>\n",
       "      <th>year</th>\n",
       "      <th>user_review</th>\n",
       "      <th>user_suggestion</th>\n",
       "    </tr>\n",
       "  </thead>\n",
       "  <tbody>\n",
       "    <tr>\n",
       "      <th>17491</th>\n",
       "      <td>25537</td>\n",
       "      <td>EverQuest II</td>\n",
       "      <td>2011.0</td>\n",
       "      <td>When I frist started playing Everquest 2 it wa...</td>\n",
       "      <td>1</td>\n",
       "    </tr>\n",
       "    <tr>\n",
       "      <th>17492</th>\n",
       "      <td>25538</td>\n",
       "      <td>EverQuest II</td>\n",
       "      <td>NaN</td>\n",
       "      <td>cool game. THe only thing that REALLY PISSES M...</td>\n",
       "      <td>1</td>\n",
       "    </tr>\n",
       "    <tr>\n",
       "      <th>17493</th>\n",
       "      <td>25539</td>\n",
       "      <td>EverQuest II</td>\n",
       "      <td>NaN</td>\n",
       "      <td>this game since I was a little kid, always hav...</td>\n",
       "      <td>1</td>\n",
       "    </tr>\n",
       "  </tbody>\n",
       "</table>\n",
       "</div>"
      ],
      "text/plain": [
       "       review_id         title    year  \\\n",
       "17491      25537  EverQuest II  2011.0   \n",
       "17492      25538  EverQuest II     NaN   \n",
       "17493      25539  EverQuest II     NaN   \n",
       "\n",
       "                                             user_review  user_suggestion  \n",
       "17491  When I frist started playing Everquest 2 it wa...                1  \n",
       "17492  cool game. THe only thing that REALLY PISSES M...                1  \n",
       "17493  this game since I was a little kid, always hav...                1  "
      ]
     },
     "execution_count": 4,
     "metadata": {},
     "output_type": "execute_result"
    }
   ],
   "source": [
    "train1.tail(3)"
   ]
  },
  {
   "cell_type": "code",
   "execution_count": null,
   "metadata": {},
   "outputs": [],
   "source": [
    "# some rows taken randomly"
   ]
  },
  {
   "cell_type": "code",
   "execution_count": 5,
   "metadata": {},
   "outputs": [
    {
     "data": {
      "text/html": [
       "<div>\n",
       "<style scoped>\n",
       "    .dataframe tbody tr th:only-of-type {\n",
       "        vertical-align: middle;\n",
       "    }\n",
       "\n",
       "    .dataframe tbody tr th {\n",
       "        vertical-align: top;\n",
       "    }\n",
       "\n",
       "    .dataframe thead th {\n",
       "        text-align: right;\n",
       "    }\n",
       "</style>\n",
       "<table border=\"1\" class=\"dataframe\">\n",
       "  <thead>\n",
       "    <tr style=\"text-align: right;\">\n",
       "      <th></th>\n",
       "      <th>review_id</th>\n",
       "      <th>title</th>\n",
       "      <th>year</th>\n",
       "      <th>user_review</th>\n",
       "      <th>user_suggestion</th>\n",
       "    </tr>\n",
       "  </thead>\n",
       "  <tbody>\n",
       "    <tr>\n",
       "      <th>14193</th>\n",
       "      <td>20137</td>\n",
       "      <td>Infestation: The New Z</td>\n",
       "      <td>2017.0</td>\n",
       "      <td>PLADED 7 MINUTES GOT NIGHT VISION GOGG;ES, GOL...</td>\n",
       "      <td>0</td>\n",
       "    </tr>\n",
       "    <tr>\n",
       "      <th>9492</th>\n",
       "      <td>13076</td>\n",
       "      <td>Realm of the Mad God</td>\n",
       "      <td>2017.0</td>\n",
       "      <td>i liked everything:):):):):):):):):):):):):):)...</td>\n",
       "      <td>1</td>\n",
       "    </tr>\n",
       "    <tr>\n",
       "      <th>9704</th>\n",
       "      <td>13288</td>\n",
       "      <td>Elsword</td>\n",
       "      <td>2014.0</td>\n",
       "      <td>Greatest free game on the market, except when ...</td>\n",
       "      <td>1</td>\n",
       "    </tr>\n",
       "  </tbody>\n",
       "</table>\n",
       "</div>"
      ],
      "text/plain": [
       "       review_id                   title    year  \\\n",
       "14193      20137  Infestation: The New Z  2017.0   \n",
       "9492       13076    Realm of the Mad God  2017.0   \n",
       "9704       13288                 Elsword  2014.0   \n",
       "\n",
       "                                             user_review  user_suggestion  \n",
       "14193  PLADED 7 MINUTES GOT NIGHT VISION GOGG;ES, GOL...                0  \n",
       "9492   i liked everything:):):):):):):):):):):):):):)...                1  \n",
       "9704   Greatest free game on the market, except when ...                1  "
      ]
     },
     "execution_count": 5,
     "metadata": {},
     "output_type": "execute_result"
    }
   ],
   "source": [
    "train1.sample(3)"
   ]
  },
  {
   "cell_type": "code",
   "execution_count": null,
   "metadata": {},
   "outputs": [],
   "source": [
    "# shape"
   ]
  },
  {
   "cell_type": "code",
   "execution_count": 6,
   "metadata": {},
   "outputs": [
    {
     "data": {
      "text/plain": [
       "(17494, 5)"
      ]
     },
     "execution_count": 6,
     "metadata": {},
     "output_type": "execute_result"
    }
   ],
   "source": [
    "train1.shape"
   ]
  },
  {
   "cell_type": "code",
   "execution_count": null,
   "metadata": {},
   "outputs": [],
   "source": [
    "# Loading second part of training dataset"
   ]
  },
  {
   "cell_type": "code",
   "execution_count": 47,
   "metadata": {},
   "outputs": [],
   "source": [
    "train2=pd.read_csv(\"C://Users//acer//Desktop//1sem//python//JanatahackNLP//game.csv\")"
   ]
  },
  {
   "cell_type": "code",
   "execution_count": null,
   "metadata": {},
   "outputs": [],
   "source": [
    "# A few rows from top"
   ]
  },
  {
   "cell_type": "code",
   "execution_count": 8,
   "metadata": {},
   "outputs": [
    {
     "data": {
      "text/html": [
       "<div>\n",
       "<style scoped>\n",
       "    .dataframe tbody tr th:only-of-type {\n",
       "        vertical-align: middle;\n",
       "    }\n",
       "\n",
       "    .dataframe tbody tr th {\n",
       "        vertical-align: top;\n",
       "    }\n",
       "\n",
       "    .dataframe thead th {\n",
       "        text-align: right;\n",
       "    }\n",
       "</style>\n",
       "<table border=\"1\" class=\"dataframe\">\n",
       "  <thead>\n",
       "    <tr style=\"text-align: right;\">\n",
       "      <th></th>\n",
       "      <th>title</th>\n",
       "      <th>developer</th>\n",
       "      <th>publisher</th>\n",
       "      <th>tags</th>\n",
       "      <th>overview</th>\n",
       "    </tr>\n",
       "  </thead>\n",
       "  <tbody>\n",
       "    <tr>\n",
       "      <th>0</th>\n",
       "      <td>Spooky's Jump Scare Mansion</td>\n",
       "      <td>Lag Studios</td>\n",
       "      <td>Lag Studios</td>\n",
       "      <td>['Horror', 'Free to Play', 'Cute', 'First-Pers...</td>\n",
       "      <td>Can you survive 1000 rooms of cute terror? Or ...</td>\n",
       "    </tr>\n",
       "    <tr>\n",
       "      <th>1</th>\n",
       "      <td>Sakura Clicker</td>\n",
       "      <td>Winged Cloud</td>\n",
       "      <td>Winged Cloud</td>\n",
       "      <td>['Nudity', 'Anime', 'Free to Play', 'Mature', ...</td>\n",
       "      <td>The latest entry in the Sakura series is more ...</td>\n",
       "    </tr>\n",
       "    <tr>\n",
       "      <th>2</th>\n",
       "      <td>WARMODE</td>\n",
       "      <td>WARTEAM</td>\n",
       "      <td>WARTEAM</td>\n",
       "      <td>['Early Access', 'Free to Play', 'FPS', 'Multi...</td>\n",
       "      <td>Free to play shooter about the confrontation o...</td>\n",
       "    </tr>\n",
       "  </tbody>\n",
       "</table>\n",
       "</div>"
      ],
      "text/plain": [
       "                         title      developer      publisher  \\\n",
       "0  Spooky's Jump Scare Mansion   Lag Studios    Lag Studios    \n",
       "1               Sakura Clicker  Winged Cloud   Winged Cloud    \n",
       "2                      WARMODE       WARTEAM        WARTEAM    \n",
       "\n",
       "                                                tags  \\\n",
       "0  ['Horror', 'Free to Play', 'Cute', 'First-Pers...   \n",
       "1  ['Nudity', 'Anime', 'Free to Play', 'Mature', ...   \n",
       "2  ['Early Access', 'Free to Play', 'FPS', 'Multi...   \n",
       "\n",
       "                                            overview  \n",
       "0  Can you survive 1000 rooms of cute terror? Or ...  \n",
       "1  The latest entry in the Sakura series is more ...  \n",
       "2  Free to play shooter about the confrontation o...  "
      ]
     },
     "execution_count": 8,
     "metadata": {},
     "output_type": "execute_result"
    }
   ],
   "source": [
    "train2.head(3)"
   ]
  },
  {
   "cell_type": "code",
   "execution_count": null,
   "metadata": {},
   "outputs": [],
   "source": [
    "# a few rows from bottom"
   ]
  },
  {
   "cell_type": "code",
   "execution_count": 9,
   "metadata": {},
   "outputs": [
    {
     "data": {
      "text/html": [
       "<div>\n",
       "<style scoped>\n",
       "    .dataframe tbody tr th:only-of-type {\n",
       "        vertical-align: middle;\n",
       "    }\n",
       "\n",
       "    .dataframe tbody tr th {\n",
       "        vertical-align: top;\n",
       "    }\n",
       "\n",
       "    .dataframe thead th {\n",
       "        text-align: right;\n",
       "    }\n",
       "</style>\n",
       "<table border=\"1\" class=\"dataframe\">\n",
       "  <thead>\n",
       "    <tr style=\"text-align: right;\">\n",
       "      <th></th>\n",
       "      <th>title</th>\n",
       "      <th>developer</th>\n",
       "      <th>publisher</th>\n",
       "      <th>tags</th>\n",
       "      <th>overview</th>\n",
       "    </tr>\n",
       "  </thead>\n",
       "  <tbody>\n",
       "    <tr>\n",
       "      <th>61</th>\n",
       "      <td>GUNS UP!</td>\n",
       "      <td>Valkyrie Entertainment, LLC</td>\n",
       "      <td>PlayStation Mobile, Inc.</td>\n",
       "      <td>['Free to Play', 'Strategy', 'Multiplayer', 'A...</td>\n",
       "      <td>In a mashup of RTS &amp; Tower Defense, GUNS UP! i...</td>\n",
       "    </tr>\n",
       "    <tr>\n",
       "      <th>62</th>\n",
       "      <td>School of Dragons</td>\n",
       "      <td>JumpStart Games, Inc.</td>\n",
       "      <td>JumpStart Games, Inc.</td>\n",
       "      <td>['Free to Play', 'Dragons', 'Adventure', 'Mult...</td>\n",
       "      <td>**Changewing Dragon now Available**Fly Fast. T...</td>\n",
       "    </tr>\n",
       "    <tr>\n",
       "      <th>63</th>\n",
       "      <td>EverQuest II</td>\n",
       "      <td>Daybreak Game Company</td>\n",
       "      <td>Daybreak Game Company</td>\n",
       "      <td>['Free to Play', 'Massively Multiplayer', 'RPG...</td>\n",
       "      <td>EverQuest® II is the epitome of massively mult...</td>\n",
       "    </tr>\n",
       "  </tbody>\n",
       "</table>\n",
       "</div>"
      ],
      "text/plain": [
       "                title                     developer  \\\n",
       "61           GUNS UP!  Valkyrie Entertainment, LLC    \n",
       "62  School of Dragons        JumpStart Games, Inc.    \n",
       "63       EverQuest II        Daybreak Game Company    \n",
       "\n",
       "                    publisher  \\\n",
       "61  PlayStation Mobile, Inc.    \n",
       "62     JumpStart Games, Inc.    \n",
       "63     Daybreak Game Company    \n",
       "\n",
       "                                                 tags  \\\n",
       "61  ['Free to Play', 'Strategy', 'Multiplayer', 'A...   \n",
       "62  ['Free to Play', 'Dragons', 'Adventure', 'Mult...   \n",
       "63  ['Free to Play', 'Massively Multiplayer', 'RPG...   \n",
       "\n",
       "                                             overview  \n",
       "61  In a mashup of RTS & Tower Defense, GUNS UP! i...  \n",
       "62  **Changewing Dragon now Available**Fly Fast. T...  \n",
       "63  EverQuest® II is the epitome of massively mult...  "
      ]
     },
     "execution_count": 9,
     "metadata": {},
     "output_type": "execute_result"
    }
   ],
   "source": [
    "train2.tail(3)"
   ]
  },
  {
   "cell_type": "code",
   "execution_count": null,
   "metadata": {},
   "outputs": [],
   "source": [
    "# random rows"
   ]
  },
  {
   "cell_type": "code",
   "execution_count": 10,
   "metadata": {},
   "outputs": [
    {
     "data": {
      "text/html": [
       "<div>\n",
       "<style scoped>\n",
       "    .dataframe tbody tr th:only-of-type {\n",
       "        vertical-align: middle;\n",
       "    }\n",
       "\n",
       "    .dataframe tbody tr th {\n",
       "        vertical-align: top;\n",
       "    }\n",
       "\n",
       "    .dataframe thead th {\n",
       "        text-align: right;\n",
       "    }\n",
       "</style>\n",
       "<table border=\"1\" class=\"dataframe\">\n",
       "  <thead>\n",
       "    <tr style=\"text-align: right;\">\n",
       "      <th></th>\n",
       "      <th>title</th>\n",
       "      <th>developer</th>\n",
       "      <th>publisher</th>\n",
       "      <th>tags</th>\n",
       "      <th>overview</th>\n",
       "    </tr>\n",
       "  </thead>\n",
       "  <tbody>\n",
       "    <tr>\n",
       "      <th>41</th>\n",
       "      <td>Digimon Masters Online</td>\n",
       "      <td>Move Games Co., Ltd.</td>\n",
       "      <td>MOVE ON USA CO.</td>\n",
       "      <td>['Free to Play', 'Anime', 'Adventure', 'Massiv...</td>\n",
       "      <td>Digimon Masters Online is the latest MMO featu...</td>\n",
       "    </tr>\n",
       "    <tr>\n",
       "      <th>25</th>\n",
       "      <td>PlanetSide 2</td>\n",
       "      <td>Daybreak Game Company</td>\n",
       "      <td>Daybreak Game Company</td>\n",
       "      <td>['Free to Play', 'Massively Multiplayer', 'FPS...</td>\n",
       "      <td>PlanetSide 2 is a free-to-play, massively mult...</td>\n",
       "    </tr>\n",
       "    <tr>\n",
       "      <th>13</th>\n",
       "      <td>Paladins®</td>\n",
       "      <td>Evil Mojo Games</td>\n",
       "      <td>Hi-Rez Studios</td>\n",
       "      <td>['Free to Play', 'Multiplayer', 'FPS', 'Shoote...</td>\n",
       "      <td>Join 25+ million players in Paladins, the free...</td>\n",
       "    </tr>\n",
       "  </tbody>\n",
       "</table>\n",
       "</div>"
      ],
      "text/plain": [
       "                     title               developer               publisher  \\\n",
       "41  Digimon Masters Online   Move Games Co., Ltd.         MOVE ON USA CO.    \n",
       "25            PlanetSide 2  Daybreak Game Company   Daybreak Game Company    \n",
       "13               Paladins®        Evil Mojo Games          Hi-Rez Studios    \n",
       "\n",
       "                                                 tags  \\\n",
       "41  ['Free to Play', 'Anime', 'Adventure', 'Massiv...   \n",
       "25  ['Free to Play', 'Massively Multiplayer', 'FPS...   \n",
       "13  ['Free to Play', 'Multiplayer', 'FPS', 'Shoote...   \n",
       "\n",
       "                                             overview  \n",
       "41  Digimon Masters Online is the latest MMO featu...  \n",
       "25  PlanetSide 2 is a free-to-play, massively mult...  \n",
       "13  Join 25+ million players in Paladins, the free...  "
      ]
     },
     "execution_count": 10,
     "metadata": {},
     "output_type": "execute_result"
    }
   ],
   "source": [
    "train2.sample(3)"
   ]
  },
  {
   "cell_type": "code",
   "execution_count": null,
   "metadata": {},
   "outputs": [],
   "source": [
    "# shape of dataset"
   ]
  },
  {
   "cell_type": "code",
   "execution_count": 11,
   "metadata": {},
   "outputs": [
    {
     "data": {
      "text/plain": [
       "(64, 5)"
      ]
     },
     "execution_count": 11,
     "metadata": {},
     "output_type": "execute_result"
    }
   ],
   "source": [
    "train2.shape"
   ]
  },
  {
   "cell_type": "code",
   "execution_count": null,
   "metadata": {},
   "outputs": [],
   "source": [
    "# Lets merge these two dataset"
   ]
  },
  {
   "cell_type": "code",
   "execution_count": 48,
   "metadata": {},
   "outputs": [],
   "source": [
    "df=pd.merge(train1,train2,on=\"title\")"
   ]
  },
  {
   "cell_type": "code",
   "execution_count": null,
   "metadata": {},
   "outputs": [],
   "source": [
    "# Now lets check the final dataset"
   ]
  },
  {
   "cell_type": "code",
   "execution_count": 49,
   "metadata": {},
   "outputs": [
    {
     "data": {
      "text/html": [
       "<div>\n",
       "<style scoped>\n",
       "    .dataframe tbody tr th:only-of-type {\n",
       "        vertical-align: middle;\n",
       "    }\n",
       "\n",
       "    .dataframe tbody tr th {\n",
       "        vertical-align: top;\n",
       "    }\n",
       "\n",
       "    .dataframe thead th {\n",
       "        text-align: right;\n",
       "    }\n",
       "</style>\n",
       "<table border=\"1\" class=\"dataframe\">\n",
       "  <thead>\n",
       "    <tr style=\"text-align: right;\">\n",
       "      <th></th>\n",
       "      <th>review_id</th>\n",
       "      <th>title</th>\n",
       "      <th>year</th>\n",
       "      <th>user_review</th>\n",
       "      <th>user_suggestion</th>\n",
       "      <th>developer</th>\n",
       "      <th>publisher</th>\n",
       "      <th>tags</th>\n",
       "      <th>overview</th>\n",
       "    </tr>\n",
       "  </thead>\n",
       "  <tbody>\n",
       "    <tr>\n",
       "      <th>10930</th>\n",
       "      <td>16427</td>\n",
       "      <td>Eternal Card Game</td>\n",
       "      <td>2017.0</td>\n",
       "      <td>Early Access ReviewThe game is very fun at fir...</td>\n",
       "      <td>0</td>\n",
       "      <td>Dire Wolf Digital</td>\n",
       "      <td>Dire Wolf Digital</td>\n",
       "      <td>['Free to Play', 'Card Game', 'Strategy', 'Tra...</td>\n",
       "      <td>The Game Has ChangedSix-guns and sorcery colli...</td>\n",
       "    </tr>\n",
       "    <tr>\n",
       "      <th>10119</th>\n",
       "      <td>15527</td>\n",
       "      <td>theHunter Classic</td>\n",
       "      <td>2016.0</td>\n",
       "      <td>The full story: I get the game, I get a gun, I...</td>\n",
       "      <td>0</td>\n",
       "      <td>Expansive Worlds, Avalanche Studios</td>\n",
       "      <td>Expansive Worlds, Avalanche Studios</td>\n",
       "      <td>['Free to Play', 'Hunting', 'Multiplayer', 'Op...</td>\n",
       "      <td>The most realistic online hunting game ever cr...</td>\n",
       "    </tr>\n",
       "    <tr>\n",
       "      <th>13699</th>\n",
       "      <td>19643</td>\n",
       "      <td>Creativerse</td>\n",
       "      <td>2017.0</td>\n",
       "      <td>I have had this game for about 2 years now, it...</td>\n",
       "      <td>1</td>\n",
       "      <td>Playful Corp.</td>\n",
       "      <td>Playful Corp.</td>\n",
       "      <td>['Free to Play', 'Survival', 'Open World', 'Mu...</td>\n",
       "      <td>EMBARK ON A WONDROUS ADVENTUREWield the power ...</td>\n",
       "    </tr>\n",
       "    <tr>\n",
       "      <th>8030</th>\n",
       "      <td>11040</td>\n",
       "      <td>Neverwinter</td>\n",
       "      <td>2015.0</td>\n",
       "      <td>Really fun the first time through...buuuuuuut ...</td>\n",
       "      <td>0</td>\n",
       "      <td>Cryptic Studios</td>\n",
       "      <td>Perfect World Entertainment</td>\n",
       "      <td>['Free to Play', 'MMORPG', 'RPG', 'Massively M...</td>\n",
       "      <td></td>\n",
       "    </tr>\n",
       "    <tr>\n",
       "      <th>11116</th>\n",
       "      <td>16613</td>\n",
       "      <td>Eternal Card Game</td>\n",
       "      <td>2018.0</td>\n",
       "      <td>Gameplay is broken,and its quite sad,  it didn...</td>\n",
       "      <td>0</td>\n",
       "      <td>Dire Wolf Digital</td>\n",
       "      <td>Dire Wolf Digital</td>\n",
       "      <td>['Free to Play', 'Card Game', 'Strategy', 'Tra...</td>\n",
       "      <td>The Game Has ChangedSix-guns and sorcery colli...</td>\n",
       "    </tr>\n",
       "  </tbody>\n",
       "</table>\n",
       "</div>"
      ],
      "text/plain": [
       "       review_id              title    year  \\\n",
       "10930      16427  Eternal Card Game  2017.0   \n",
       "10119      15527  theHunter Classic  2016.0   \n",
       "13699      19643        Creativerse  2017.0   \n",
       "8030       11040        Neverwinter  2015.0   \n",
       "11116      16613  Eternal Card Game  2018.0   \n",
       "\n",
       "                                             user_review  user_suggestion  \\\n",
       "10930  Early Access ReviewThe game is very fun at fir...                0   \n",
       "10119  The full story: I get the game, I get a gun, I...                0   \n",
       "13699  I have had this game for about 2 years now, it...                1   \n",
       "8030   Really fun the first time through...buuuuuuut ...                0   \n",
       "11116  Gameplay is broken,and its quite sad,  it didn...                0   \n",
       "\n",
       "                                  developer  \\\n",
       "10930                    Dire Wolf Digital    \n",
       "10119  Expansive Worlds, Avalanche Studios    \n",
       "13699                        Playful Corp.    \n",
       "8030                       Cryptic Studios    \n",
       "11116                    Dire Wolf Digital    \n",
       "\n",
       "                                  publisher  \\\n",
       "10930                    Dire Wolf Digital    \n",
       "10119  Expansive Worlds, Avalanche Studios    \n",
       "13699                        Playful Corp.    \n",
       "8030           Perfect World Entertainment    \n",
       "11116                    Dire Wolf Digital    \n",
       "\n",
       "                                                    tags  \\\n",
       "10930  ['Free to Play', 'Card Game', 'Strategy', 'Tra...   \n",
       "10119  ['Free to Play', 'Hunting', 'Multiplayer', 'Op...   \n",
       "13699  ['Free to Play', 'Survival', 'Open World', 'Mu...   \n",
       "8030   ['Free to Play', 'MMORPG', 'RPG', 'Massively M...   \n",
       "11116  ['Free to Play', 'Card Game', 'Strategy', 'Tra...   \n",
       "\n",
       "                                                overview  \n",
       "10930  The Game Has ChangedSix-guns and sorcery colli...  \n",
       "10119  The most realistic online hunting game ever cr...  \n",
       "13699  EMBARK ON A WONDROUS ADVENTUREWield the power ...  \n",
       "8030                                                      \n",
       "11116  The Game Has ChangedSix-guns and sorcery colli...  "
      ]
     },
     "execution_count": 49,
     "metadata": {},
     "output_type": "execute_result"
    }
   ],
   "source": [
    "df.sample(5)"
   ]
  },
  {
   "cell_type": "code",
   "execution_count": null,
   "metadata": {},
   "outputs": [],
   "source": [
    "# Listing all column names"
   ]
  },
  {
   "cell_type": "code",
   "execution_count": 18,
   "metadata": {},
   "outputs": [
    {
     "data": {
      "text/plain": [
       "Index(['review_id', 'title', 'year', 'user_review', 'user_suggestion',\n",
       "       'developer', 'publisher', 'tags', 'overview'],\n",
       "      dtype='object')"
      ]
     },
     "execution_count": 18,
     "metadata": {},
     "output_type": "execute_result"
    }
   ],
   "source": [
    "df.columns"
   ]
  },
  {
   "cell_type": "code",
   "execution_count": null,
   "metadata": {},
   "outputs": [],
   "source": [
    "# Detailed summary "
   ]
  },
  {
   "cell_type": "code",
   "execution_count": 19,
   "metadata": {},
   "outputs": [
    {
     "data": {
      "text/html": [
       "<div>\n",
       "<style scoped>\n",
       "    .dataframe tbody tr th:only-of-type {\n",
       "        vertical-align: middle;\n",
       "    }\n",
       "\n",
       "    .dataframe tbody tr th {\n",
       "        vertical-align: top;\n",
       "    }\n",
       "\n",
       "    .dataframe thead th {\n",
       "        text-align: right;\n",
       "    }\n",
       "</style>\n",
       "<table border=\"1\" class=\"dataframe\">\n",
       "  <thead>\n",
       "    <tr style=\"text-align: right;\">\n",
       "      <th></th>\n",
       "      <th>TotalMissing</th>\n",
       "      <th>%Missing</th>\n",
       "      <th>DataType</th>\n",
       "      <th>Unique</th>\n",
       "    </tr>\n",
       "  </thead>\n",
       "  <tbody>\n",
       "    <tr>\n",
       "      <th>review_id</th>\n",
       "      <td>0</td>\n",
       "      <td>0.000000</td>\n",
       "      <td>int64</td>\n",
       "      <td>17494</td>\n",
       "    </tr>\n",
       "    <tr>\n",
       "      <th>title</th>\n",
       "      <td>0</td>\n",
       "      <td>0.000000</td>\n",
       "      <td>object</td>\n",
       "      <td>44</td>\n",
       "    </tr>\n",
       "    <tr>\n",
       "      <th>year</th>\n",
       "      <td>178</td>\n",
       "      <td>0.010175</td>\n",
       "      <td>float64</td>\n",
       "      <td>8</td>\n",
       "    </tr>\n",
       "    <tr>\n",
       "      <th>user_review</th>\n",
       "      <td>0</td>\n",
       "      <td>0.000000</td>\n",
       "      <td>object</td>\n",
       "      <td>17490</td>\n",
       "    </tr>\n",
       "    <tr>\n",
       "      <th>user_suggestion</th>\n",
       "      <td>0</td>\n",
       "      <td>0.000000</td>\n",
       "      <td>int64</td>\n",
       "      <td>2</td>\n",
       "    </tr>\n",
       "    <tr>\n",
       "      <th>developer</th>\n",
       "      <td>0</td>\n",
       "      <td>0.000000</td>\n",
       "      <td>object</td>\n",
       "      <td>42</td>\n",
       "    </tr>\n",
       "    <tr>\n",
       "      <th>publisher</th>\n",
       "      <td>0</td>\n",
       "      <td>0.000000</td>\n",
       "      <td>object</td>\n",
       "      <td>40</td>\n",
       "    </tr>\n",
       "    <tr>\n",
       "      <th>tags</th>\n",
       "      <td>0</td>\n",
       "      <td>0.000000</td>\n",
       "      <td>object</td>\n",
       "      <td>44</td>\n",
       "    </tr>\n",
       "    <tr>\n",
       "      <th>overview</th>\n",
       "      <td>0</td>\n",
       "      <td>0.000000</td>\n",
       "      <td>object</td>\n",
       "      <td>43</td>\n",
       "    </tr>\n",
       "  </tbody>\n",
       "</table>\n",
       "</div>"
      ],
      "text/plain": [
       "                 TotalMissing  %Missing DataType  Unique\n",
       "review_id                   0  0.000000    int64   17494\n",
       "title                       0  0.000000   object      44\n",
       "year                      178  0.010175  float64       8\n",
       "user_review                 0  0.000000   object   17490\n",
       "user_suggestion             0  0.000000    int64       2\n",
       "developer                   0  0.000000   object      42\n",
       "publisher                   0  0.000000   object      40\n",
       "tags                        0  0.000000   object      44\n",
       "overview                    0  0.000000   object      43"
      ]
     },
     "execution_count": 19,
     "metadata": {},
     "output_type": "execute_result"
    }
   ],
   "source": [
    "pd.DataFrame({\"TotalMissing\":df.isna().sum(),\"%Missing\":df.isna().mean(),\"DataType\":df.dtypes,\"Unique\":df.nunique()})"
   ]
  },
  {
   "cell_type": "code",
   "execution_count": null,
   "metadata": {},
   "outputs": [],
   "source": [
    "# EDA"
   ]
  },
  {
   "cell_type": "code",
   "execution_count": null,
   "metadata": {},
   "outputs": [],
   "source": [
    "# as we have missing data in col year we will impute some values in place of null"
   ]
  },
  {
   "cell_type": "code",
   "execution_count": 7,
   "metadata": {},
   "outputs": [
    {
     "data": {
      "text/plain": [
       "<matplotlib.axes._subplots.AxesSubplot at 0x21d1e1b7860>"
      ]
     },
     "execution_count": 7,
     "metadata": {},
     "output_type": "execute_result"
    },
    {
     "data": {
      "image/png": "[encoded data removed]",
      "text/plain": [
       "<Figure size 432x288 with 1 Axes>"
      ]
     },
     "metadata": {
      "needs_background": "light"
     },
     "output_type": "display_data"
    }
   ],
   "source": [
    "sns.countplot(df[\"year\"])"
   ]
  },
  {
   "cell_type": "code",
   "execution_count": 11,
   "metadata": {},
   "outputs": [
    {
     "data": {
      "text/plain": [
       "<matplotlib.axes._subplots.AxesSubplot at 0x21d1d761f98>"
      ]
     },
     "execution_count": 11,
     "metadata": {},
     "output_type": "execute_result"
    },
    {
     "data": {
      "image/png": "[encoded data removed]",
      "text/plain": [
       "<Figure size 432x288 with 1 Axes>"
      ]
     },
     "metadata": {
      "needs_background": "light"
     },
     "output_type": "display_data"
    }
   ],
   "source": [
    "df[\"year\"].hist()"
   ]
  },
  {
   "cell_type": "code",
   "execution_count": 50,
   "metadata": {},
   "outputs": [],
   "source": [
    "df.year.fillna(df.year.median(),inplace=True)"
   ]
  },
  {
   "cell_type": "code",
   "execution_count": null,
   "metadata": {},
   "outputs": [],
   "source": [
    "# Lets see the target col distribution"
   ]
  },
  {
   "cell_type": "code",
   "execution_count": 40,
   "metadata": {},
   "outputs": [
    {
     "data": {
      "text/plain": [
       "<matplotlib.axes._subplots.AxesSubplot at 0x21d1ec64390>"
      ]
     },
     "execution_count": 40,
     "metadata": {},
     "output_type": "execute_result"
    },
    {
     "data": {
      "image/png": "[encoded data removed]",
      "text/plain": [
       "<Figure size 432x288 with 1 Axes>"
      ]
     },
     "metadata": {
      "needs_background": "light"
     },
     "output_type": "display_data"
    }
   ],
   "source": [
    "sns.countplot(df.user_suggestion)"
   ]
  },
  {
   "cell_type": "code",
   "execution_count": 42,
   "metadata": {},
   "outputs": [
    {
     "data": {
      "text/plain": [
       "1    0.569795\n",
       "0    0.430205\n",
       "Name: user_suggestion, dtype: float64"
      ]
     },
     "execution_count": 42,
     "metadata": {},
     "output_type": "execute_result"
    }
   ],
   "source": [
    "df.user_suggestion.value_counts(normalize=True)"
   ]
  },
  {
   "cell_type": "code",
   "execution_count": null,
   "metadata": {},
   "outputs": [],
   "source": [
    "# Lets process the reviews given by users: starting by converting the type to str"
   ]
  },
  {
   "cell_type": "code",
   "execution_count": 51,
   "metadata": {},
   "outputs": [],
   "source": [
    "df[\"user_review\"]=df.user_review.astype(str)"
   ]
  },
  {
   "cell_type": "code",
   "execution_count": 52,
   "metadata": {},
   "outputs": [],
   "source": [
    "def clean_data(data,column_name):\n",
    "    documents = []\n",
    "    document1 = ''\n",
    "\n",
    "    stemmer = WordNetLemmatizer()\n",
    "\n",
    "    for sen in range(0, len(data)):  \n",
    "        # Remove all the special characters\n",
    "        document = re.sub(r'\\W', ' ', str(data[sen]))\n",
    "\n",
    "        # remove all single characters\n",
    "        document = re.sub(r'\\s+[a-zA-Z]\\s+', ' ', document)\n",
    "\n",
    "        # Remove single characters from the start\n",
    "        document = re.sub(r'\\^[a-zA-Z]\\s+', ' ', document) \n",
    "\n",
    "        # Substituting multiple spaces with single space\n",
    "        document = re.sub(r'\\s+', ' ', document, flags=re.I)\n",
    "\n",
    "        # Removing prefixed 'b'\n",
    "        document = re.sub(r'^b\\s+', '', document)\n",
    "    \n",
    "        document = re.sub(r'[0-9]+',\"\", document)\n",
    "\n",
    "        # Converting to Lowercase\n",
    "        document = document.lower()\n",
    "\n",
    "        # Lemmatization\n",
    "        document = document.split()\n",
    "\n",
    "        document = [stemmer.lemmatize(word) for word in document]\n",
    "        document = ' '.join(document)\n",
    "        documents.append(document)\n",
    "        df.at[sen,column_name] = document"
   ]
  },
  {
   "cell_type": "code",
   "execution_count": 53,
   "metadata": {},
   "outputs": [],
   "source": [
    "clean_data(df[\"user_review\"],\"user_review\")"
   ]
  },
  {
   "cell_type": "code",
   "execution_count": 54,
   "metadata": {},
   "outputs": [],
   "source": [
    "#Cleaning Text Colum\n",
    "df['tidy_text'] = df['user_review'].str.replace(r\"http\\S+\", \"\")\n",
    "df['tidy_text'] = df['tidy_text'].str.replace(r\"http\", \"\")\n",
    "df['tidy_text'] = df['tidy_text'].str.replace(r\"(\\d)\", \"\")\n",
    "df['tidy_text'] = df['tidy_text'].str.replace(r\"@\\S+\", \"\")\n",
    "df['tidy_text'] = df['tidy_text'].str.replace(r\"[^A-Za-z0-9(),!?@\\'\\`\\\"\\_\\n]\", \" \")\n",
    "df['tidy_text'] = df['tidy_text'].str.replace(r\"@\", \"at\")\n",
    "df['tidy_text'] = df['tidy_text'].str.lower()"
   ]
  },
  {
   "cell_type": "code",
   "execution_count": 55,
   "metadata": {},
   "outputs": [],
   "source": [
    "stop = stopwords.words('english')\n",
    "df['tidy_text']=df['tidy_text'].apply(lambda x : \" \".join([w for w in x.split() if w.lower() not in stop]))"
   ]
  },
  {
   "cell_type": "code",
   "execution_count": 56,
   "metadata": {},
   "outputs": [
    {
     "data": {
      "text/plain": [
       "0    [scared, hearing, creepy, voice, pause, moment...\n",
       "1    [best, game, better, sam, pepper, youtube, acc...\n",
       "2    [littly, iffy, control, know, play, easy, mast...\n",
       "3    [great, game, fun, colorful, side, note, thoug...\n",
       "4    [many, game, cute, tag, right, next, horror, t...\n",
       "Name: tidy_text, dtype: object"
      ]
     },
     "execution_count": 56,
     "metadata": {},
     "output_type": "execute_result"
    }
   ],
   "source": [
    "tokenized_text = df['tidy_text'].apply(lambda x: x.split())\n",
    "tokenized_text.head()"
   ]
  },
  {
   "cell_type": "code",
   "execution_count": 57,
   "metadata": {},
   "outputs": [],
   "source": [
    "#Stemming\n",
    "from nltk.stem.porter import *\n",
    "stemmer=PorterStemmer()\n",
    "tokenized_text = tokenized_text.apply(lambda x: [stemmer.stem(i) for i in x])   #stemming\n",
    "# Lemmatizing - is giving less accurate so used\n",
    "from nltk.stem import WordNetLemmatizer \n",
    "lemmatizer = WordNetLemmatizer() \n",
    "tokenized_text1 = tokenized_text.apply(lambda x: [lemmatizer.lemmatize(i) for i in x])   #lemmatizer"
   ]
  },
  {
   "cell_type": "code",
   "execution_count": 65,
   "metadata": {},
   "outputs": [],
   "source": [
    "#stitch these tokens back together\n",
    "for i in range(len(tokenized_text)):\n",
    "    tokenized_text[i] = ' '.join(tokenized_text[i])\n",
    "df['tidy_text'] = tokenized_text"
   ]
  },
  {
   "cell_type": "code",
   "execution_count": 66,
   "metadata": {},
   "outputs": [],
   "source": [
    "tweettext=df['tidy_text']\n",
    "\n",
    "wordlist=pd.DataFrame();\n",
    "\n",
    "polarity=[]\n",
    "subj=[]\n",
    "\n",
    "for t in tweettext:\n",
    "    tx= TextBlob(t)\n",
    "    polarity.append(tx.sentiment.polarity)\n",
    "    subj.append(tx.sentiment.subjectivity)\n",
    "\n",
    "poltweet= pd.DataFrame({'polarity':polarity,'subjectivity':subj})"
   ]
  },
  {
   "cell_type": "code",
   "execution_count": 69,
   "metadata": {},
   "outputs": [],
   "source": [
    "df.drop([\"polarity\",\"subjectivity\"],axis=1,inplace=True)"
   ]
  },
  {
   "cell_type": "code",
   "execution_count": 70,
   "metadata": {},
   "outputs": [],
   "source": [
    "df=pd.concat([df,poltweet],axis=1)"
   ]
  },
  {
   "cell_type": "code",
   "execution_count": null,
   "metadata": {},
   "outputs": [],
   "source": [
    "# Lets see dataset"
   ]
  },
  {
   "cell_type": "code",
   "execution_count": 71,
   "metadata": {},
   "outputs": [
    {
     "data": {
      "text/html": [
       "<div>\n",
       "<style scoped>\n",
       "    .dataframe tbody tr th:only-of-type {\n",
       "        vertical-align: middle;\n",
       "    }\n",
       "\n",
       "    .dataframe tbody tr th {\n",
       "        vertical-align: top;\n",
       "    }\n",
       "\n",
       "    .dataframe thead th {\n",
       "        text-align: right;\n",
       "    }\n",
       "</style>\n",
       "<table border=\"1\" class=\"dataframe\">\n",
       "  <thead>\n",
       "    <tr style=\"text-align: right;\">\n",
       "      <th></th>\n",
       "      <th>review_id</th>\n",
       "      <th>title</th>\n",
       "      <th>year</th>\n",
       "      <th>user_review</th>\n",
       "      <th>user_suggestion</th>\n",
       "      <th>developer</th>\n",
       "      <th>publisher</th>\n",
       "      <th>tags</th>\n",
       "      <th>overview</th>\n",
       "      <th>tidy_text</th>\n",
       "      <th>sentiment_type</th>\n",
       "      <th>polarity</th>\n",
       "      <th>subjectivity</th>\n",
       "    </tr>\n",
       "  </thead>\n",
       "  <tbody>\n",
       "    <tr>\n",
       "      <th>8484</th>\n",
       "      <td>11494</td>\n",
       "      <td>Realm Royale</td>\n",
       "      <td>2018.0</td>\n",
       "      <td>early access reviewgreat moba like twist on th...</td>\n",
       "      <td>1</td>\n",
       "      <td>Heroic Leap Games</td>\n",
       "      <td>Hi-Rez Studios</td>\n",
       "      <td>['Early Access', 'Battle Royale', 'Free to Pla...</td>\n",
       "      <td>Explore a fantasy world in Realm Royale, the n...</td>\n",
       "      <td>earli access reviewgreat moba like twist battl...</td>\n",
       "      <td>1</td>\n",
       "      <td>0.087500</td>\n",
       "      <td>0.287500</td>\n",
       "    </tr>\n",
       "    <tr>\n",
       "      <th>4940</th>\n",
       "      <td>6865</td>\n",
       "      <td>Brawlhalla</td>\n",
       "      <td>2017.0</td>\n",
       "      <td>early access reviewi have played this game for...</td>\n",
       "      <td>1</td>\n",
       "      <td>Blue Mammoth Games</td>\n",
       "      <td>Ubisoft</td>\n",
       "      <td>['Free to Play', 'Multiplayer', 'Fighting', '2...</td>\n",
       "      <td>Brawlhalla: An eternal battle arena where the ...</td>\n",
       "      <td>earli access reviewi play game hour year tri g...</td>\n",
       "      <td>0</td>\n",
       "      <td>-0.093522</td>\n",
       "      <td>0.476317</td>\n",
       "    </tr>\n",
       "    <tr>\n",
       "      <th>13969</th>\n",
       "      <td>19913</td>\n",
       "      <td>Infestation: The New Z</td>\n",
       "      <td>2016.0</td>\n",
       "      <td>okay my take on this game after reading severa...</td>\n",
       "      <td>0</td>\n",
       "      <td>Fredaikis AB</td>\n",
       "      <td>Fredaikis AB</td>\n",
       "      <td>['Zombies', 'Free to Play', 'Survival', 'Multi...</td>\n",
       "      <td>Infestation: The New Z is a FREE TO PLAY multi...</td>\n",
       "      <td>okay take game read sever hundr neg review gam...</td>\n",
       "      <td>0</td>\n",
       "      <td>-0.133081</td>\n",
       "      <td>0.365657</td>\n",
       "    </tr>\n",
       "    <tr>\n",
       "      <th>12472</th>\n",
       "      <td>17969</td>\n",
       "      <td>RaceRoom Racing Experience</td>\n",
       "      <td>2014.0</td>\n",
       "      <td>raceroom is great racing simulator it ha good ...</td>\n",
       "      <td>1</td>\n",
       "      <td>Sector3 Studios</td>\n",
       "      <td>Sector3 Studios, RaceRoom Entertainment AG</td>\n",
       "      <td>['Racing', 'Free to Play', 'Multiplayer', 'Sim...</td>\n",
       "      <td>RaceRoom is the premier free-to-play racing si...</td>\n",
       "      <td>raceroom great race simul ha good physic graph...</td>\n",
       "      <td>1</td>\n",
       "      <td>0.195105</td>\n",
       "      <td>0.546503</td>\n",
       "    </tr>\n",
       "  </tbody>\n",
       "</table>\n",
       "</div>"
      ],
      "text/plain": [
       "       review_id                       title    year  \\\n",
       "8484       11494                Realm Royale  2018.0   \n",
       "4940        6865                  Brawlhalla  2017.0   \n",
       "13969      19913      Infestation: The New Z  2016.0   \n",
       "12472      17969  RaceRoom Racing Experience  2014.0   \n",
       "\n",
       "                                             user_review  user_suggestion  \\\n",
       "8484   early access reviewgreat moba like twist on th...                1   \n",
       "4940   early access reviewi have played this game for...                1   \n",
       "13969  okay my take on this game after reading severa...                0   \n",
       "12472  raceroom is great racing simulator it ha good ...                1   \n",
       "\n",
       "                 developer                                    publisher  \\\n",
       "8484    Heroic Leap Games                               Hi-Rez Studios    \n",
       "4940   Blue Mammoth Games                                      Ubisoft    \n",
       "13969        Fredaikis AB                                 Fredaikis AB    \n",
       "12472     Sector3 Studios   Sector3 Studios, RaceRoom Entertainment AG    \n",
       "\n",
       "                                                    tags  \\\n",
       "8484   ['Early Access', 'Battle Royale', 'Free to Pla...   \n",
       "4940   ['Free to Play', 'Multiplayer', 'Fighting', '2...   \n",
       "13969  ['Zombies', 'Free to Play', 'Survival', 'Multi...   \n",
       "12472  ['Racing', 'Free to Play', 'Multiplayer', 'Sim...   \n",
       "\n",
       "                                                overview  \\\n",
       "8484   Explore a fantasy world in Realm Royale, the n...   \n",
       "4940   Brawlhalla: An eternal battle arena where the ...   \n",
       "13969  Infestation: The New Z is a FREE TO PLAY multi...   \n",
       "12472  RaceRoom is the premier free-to-play racing si...   \n",
       "\n",
       "                                               tidy_text  sentiment_type  \\\n",
       "8484   earli access reviewgreat moba like twist battl...               1   \n",
       "4940   earli access reviewi play game hour year tri g...               0   \n",
       "13969  okay take game read sever hundr neg review gam...               0   \n",
       "12472  raceroom great race simul ha good physic graph...               1   \n",
       "\n",
       "       polarity  subjectivity  \n",
       "8484   0.087500      0.287500  \n",
       "4940  -0.093522      0.476317  \n",
       "13969 -0.133081      0.365657  \n",
       "12472  0.195105      0.546503  "
      ]
     },
     "execution_count": 71,
     "metadata": {},
     "output_type": "execute_result"
    }
   ],
   "source": [
    "df.sample(4)"
   ]
  },
  {
   "cell_type": "code",
   "execution_count": 72,
   "metadata": {},
   "outputs": [],
   "source": [
    "def sentiment(df):\n",
    "    if df['polarity'] >= 0:\n",
    "        val = 1\n",
    "    else:\n",
    "        val = 0\n",
    "    return val"
   ]
  },
  {
   "cell_type": "code",
   "execution_count": 73,
   "metadata": {},
   "outputs": [],
   "source": [
    "df.drop([\"sentiment_type\"],axis=1,inplace=True)"
   ]
  },
  {
   "cell_type": "code",
   "execution_count": 74,
   "metadata": {},
   "outputs": [],
   "source": [
    "df['sentiment_type'] = df.apply(sentiment, axis=1)"
   ]
  },
  {
   "cell_type": "code",
   "execution_count": 30,
   "metadata": {},
   "outputs": [],
   "source": [
    "from sklearn.metrics import confusion_matrix,accuracy_score,classification_report"
   ]
  },
  {
   "cell_type": "code",
   "execution_count": 75,
   "metadata": {},
   "outputs": [
    {
     "data": {
      "text/plain": [
       "array([[4737, 2789],\n",
       "       [3758, 6210]], dtype=int64)"
      ]
     },
     "execution_count": 75,
     "metadata": {},
     "output_type": "execute_result"
    }
   ],
   "source": [
    "confusion_matrix(df[\"user_suggestion\"],df[\"sentiment_type\"])"
   ]
  },
  {
   "cell_type": "code",
   "execution_count": 76,
   "metadata": {},
   "outputs": [
    {
     "data": {
      "text/plain": [
       "0.625757402538013"
      ]
     },
     "execution_count": 76,
     "metadata": {},
     "output_type": "execute_result"
    }
   ],
   "source": [
    "accuracy_score(df[\"user_suggestion\"],df[\"sentiment_type\"])"
   ]
  },
  {
   "cell_type": "code",
   "execution_count": null,
   "metadata": {},
   "outputs": [],
   "source": []
  },
  {
   "cell_type": "code",
   "execution_count": null,
   "metadata": {},
   "outputs": [],
   "source": []
  },
  {
   "cell_type": "code",
   "execution_count": null,
   "metadata": {},
   "outputs": [],
   "source": []
  },
  {
   "cell_type": "code",
   "execution_count": null,
   "metadata": {},
   "outputs": [],
   "source": []
  },
  {
   "cell_type": "code",
   "execution_count": null,
   "metadata": {},
   "outputs": [],
   "source": []
  },
  {
   "cell_type": "code",
   "execution_count": null,
   "metadata": {},
   "outputs": [],
   "source": []
  },
  {
   "cell_type": "code",
   "execution_count": null,
   "metadata": {},
   "outputs": [],
   "source": []
  },
  {
   "cell_type": "code",
   "execution_count": null,
   "metadata": {},
   "outputs": [],
   "source": []
  },
  {
   "cell_type": "code",
   "execution_count": null,
   "metadata": {},
   "outputs": [],
   "source": []
  },
  {
   "cell_type": "code",
   "execution_count": null,
   "metadata": {},
   "outputs": [],
   "source": []
  },
  {
   "cell_type": "code",
   "execution_count": null,
   "metadata": {},
   "outputs": [],
   "source": []
  },
  {
   "cell_type": "code",
   "execution_count": null,
   "metadata": {},
   "outputs": [],
   "source": []
  },
  {
   "cell_type": "code",
   "execution_count": null,
   "metadata": {},
   "outputs": [],
   "source": []
  },
  {
   "cell_type": "code",
   "execution_count": null,
   "metadata": {},
   "outputs": [],
   "source": []
  },
  {
   "cell_type": "code",
   "execution_count": null,
   "metadata": {},
   "outputs": [],
   "source": []
  },
  {
   "cell_type": "code",
   "execution_count": null,
   "metadata": {},
   "outputs": [],
   "source": []
  },
  {
   "cell_type": "code",
   "execution_count": null,
   "metadata": {},
   "outputs": [],
   "source": []
  },
  {
   "cell_type": "code",
   "execution_count": null,
   "metadata": {},
   "outputs": [],
   "source": []
  },
  {
   "cell_type": "code",
   "execution_count": null,
   "metadata": {},
   "outputs": [],
   "source": []
  },
  {
   "cell_type": "code",
   "execution_count": null,
   "metadata": {},
   "outputs": [],
   "source": []
  },
  {
   "cell_type": "code",
   "execution_count": null,
   "metadata": {},
   "outputs": [],
   "source": []
  },
  {
   "cell_type": "code",
   "execution_count": null,
   "metadata": {},
   "outputs": [],
   "source": []
  },
  {
   "cell_type": "code",
   "execution_count": null,
   "metadata": {},
   "outputs": [],
   "source": []
  },
  {
   "cell_type": "code",
   "execution_count": 7,
   "metadata": {},
   "outputs": [],
   "source": [
    "def clean_data(data,column_name):\n",
    "    documents = []\n",
    "    document1 = ''\n",
    "\n",
    "    stemmer = WordNetLemmatizer()\n",
    "\n",
    "    for sen in range(0, len(data)):  \n",
    "        # Remove all the special characters\n",
    "        document = re.sub(r'\\W', ' ', str(data[sen]))\n",
    "\n",
    "        # remove all single characters\n",
    "        document = re.sub(r'\\s+[a-zA-Z]\\s+', ' ', document)\n",
    "\n",
    "        # Remove single characters from the start\n",
    "        document = re.sub(r'\\^[a-zA-Z]\\s+', ' ', document) \n",
    "\n",
    "        # Substituting multiple spaces with single space\n",
    "        document = re.sub(r'\\s+', ' ', document, flags=re.I)\n",
    "\n",
    "        # Removing prefixed 'b'\n",
    "        document = re.sub(r'^b\\s+', '', document)\n",
    "    \n",
    "        document = re.sub(r'[0-9]+',\"\", document)\n",
    "\n",
    "        # Converting to Lowercase\n",
    "        document = document.lower()\n",
    "\n",
    "        # Lemmatization\n",
    "        document = document.split()\n",
    "\n",
    "        document = [stemmer.lemmatize(word) for word in document]\n",
    "        document = ' '.join(document)\n",
    "        documents.append(document)\n",
    "        df.at[sen,column_name] = document"
   ]
  },
  {
   "cell_type": "code",
   "execution_count": 8,
   "metadata": {},
   "outputs": [],
   "source": [
    "clean_data(df[\"user_review\"],\"user_review\")"
   ]
  },
  {
   "cell_type": "code",
   "execution_count": 31,
   "metadata": {},
   "outputs": [],
   "source": [
    "# Lets see the data"
   ]
  },
  {
   "cell_type": "code",
   "execution_count": 32,
   "metadata": {},
   "outputs": [
    {
     "data": {
      "text/html": [
       "<div>\n",
       "<style scoped>\n",
       "    .dataframe tbody tr th:only-of-type {\n",
       "        vertical-align: middle;\n",
       "    }\n",
       "\n",
       "    .dataframe tbody tr th {\n",
       "        vertical-align: top;\n",
       "    }\n",
       "\n",
       "    .dataframe thead th {\n",
       "        text-align: right;\n",
       "    }\n",
       "</style>\n",
       "<table border=\"1\" class=\"dataframe\">\n",
       "  <thead>\n",
       "    <tr style=\"text-align: right;\">\n",
       "      <th></th>\n",
       "      <th>review_id</th>\n",
       "      <th>title</th>\n",
       "      <th>year</th>\n",
       "      <th>user_review</th>\n",
       "      <th>user_suggestion</th>\n",
       "      <th>developer</th>\n",
       "      <th>publisher</th>\n",
       "      <th>tags</th>\n",
       "      <th>overview</th>\n",
       "    </tr>\n",
       "  </thead>\n",
       "  <tbody>\n",
       "    <tr>\n",
       "      <th>6928</th>\n",
       "      <td>9303</td>\n",
       "      <td>The Elder Scrolls®: Legends™</td>\n",
       "      <td>2017.0</td>\n",
       "      <td>after nearly hour of time in this game since i...</td>\n",
       "      <td>1</td>\n",
       "      <td>Sparkypants Studios, LLC</td>\n",
       "      <td>Bethesda Softworks</td>\n",
       "      <td>['Free to Play', 'Card Game', 'Multiplayer', '...</td>\n",
       "      <td>PLAY ON YOUR OWNStory mode provides hours of s...</td>\n",
       "    </tr>\n",
       "    <tr>\n",
       "      <th>3827</th>\n",
       "      <td>4291</td>\n",
       "      <td>Team Fortress 2</td>\n",
       "      <td>2016.0</td>\n",
       "      <td>tf used to be my favourite game clocked thousa...</td>\n",
       "      <td>0</td>\n",
       "      <td>Valve</td>\n",
       "      <td>Valve</td>\n",
       "      <td>['Free to Play', 'Multiplayer', 'FPS', 'Action...</td>\n",
       "      <td>\"The most fun you can have online\" - PC GamerI...</td>\n",
       "    </tr>\n",
       "    <tr>\n",
       "      <th>3274</th>\n",
       "      <td>3738</td>\n",
       "      <td>Ring of Elysium</td>\n",
       "      <td>2018.0</td>\n",
       "      <td>early access reviewa better version of pubg no...</td>\n",
       "      <td>1</td>\n",
       "      <td>Aurora Studio</td>\n",
       "      <td>Tencent Games</td>\n",
       "      <td>['Early Access', 'Free to Play', 'Battle Royal...</td>\n",
       "      <td></td>\n",
       "    </tr>\n",
       "    <tr>\n",
       "      <th>2650</th>\n",
       "      <td>3114</td>\n",
       "      <td>War Thunder</td>\n",
       "      <td>2017.0</td>\n",
       "      <td>a fun game on the whole but there are number o...</td>\n",
       "      <td>1</td>\n",
       "      <td>Gaijin Entertainment</td>\n",
       "      <td>Gaijin Entertainment</td>\n",
       "      <td>['Free to Play', 'World War II', 'Multiplayer'...</td>\n",
       "      <td>War Thunder is the most comprehensive free-to-...</td>\n",
       "    </tr>\n",
       "  </tbody>\n",
       "</table>\n",
       "</div>"
      ],
      "text/plain": [
       "      review_id                         title    year  \\\n",
       "6928       9303  The Elder Scrolls®: Legends™  2017.0   \n",
       "3827       4291               Team Fortress 2  2016.0   \n",
       "3274       3738               Ring of Elysium  2018.0   \n",
       "2650       3114                   War Thunder  2017.0   \n",
       "\n",
       "                                            user_review  user_suggestion  \\\n",
       "6928  after nearly hour of time in this game since i...                1   \n",
       "3827  tf used to be my favourite game clocked thousa...                0   \n",
       "3274  early access reviewa better version of pubg no...                1   \n",
       "2650  a fun game on the whole but there are number o...                1   \n",
       "\n",
       "                      developer              publisher  \\\n",
       "6928  Sparkypants Studios, LLC     Bethesda Softworks    \n",
       "3827                     Valve                  Valve    \n",
       "3274             Aurora Studio          Tencent Games    \n",
       "2650      Gaijin Entertainment   Gaijin Entertainment    \n",
       "\n",
       "                                                   tags  \\\n",
       "6928  ['Free to Play', 'Card Game', 'Multiplayer', '...   \n",
       "3827  ['Free to Play', 'Multiplayer', 'FPS', 'Action...   \n",
       "3274  ['Early Access', 'Free to Play', 'Battle Royal...   \n",
       "2650  ['Free to Play', 'World War II', 'Multiplayer'...   \n",
       "\n",
       "                                               overview  \n",
       "6928  PLAY ON YOUR OWNStory mode provides hours of s...  \n",
       "3827  \"The most fun you can have online\" - PC GamerI...  \n",
       "3274                                                     \n",
       "2650  War Thunder is the most comprehensive free-to-...  "
      ]
     },
     "execution_count": 32,
     "metadata": {},
     "output_type": "execute_result"
    }
   ],
   "source": [
    "df.sample(4)"
   ]
  },
  {
   "cell_type": "code",
   "execution_count": null,
   "metadata": {},
   "outputs": [],
   "source": [
    "# Lets predict polarity"
   ]
  },
  {
   "cell_type": "code",
   "execution_count": 9,
   "metadata": {},
   "outputs": [],
   "source": [
    "df['polarity'] = df.apply(lambda x: TextBlob(x['user_review']).sentiment.polarity, axis=1)"
   ]
  },
  {
   "cell_type": "code",
   "execution_count": null,
   "metadata": {},
   "outputs": [],
   "source": [
    "# Lets predict subjectivity"
   ]
  },
  {
   "cell_type": "code",
   "execution_count": 10,
   "metadata": {},
   "outputs": [],
   "source": [
    "df['subjectivity'] = df.apply(lambda x: TextBlob(x['user_review']).sentiment.subjectivity, axis=1)"
   ]
  },
  {
   "cell_type": "code",
   "execution_count": null,
   "metadata": {},
   "outputs": [],
   "source": [
    "# Lets see the data set with predicted values"
   ]
  },
  {
   "cell_type": "code",
   "execution_count": 35,
   "metadata": {},
   "outputs": [
    {
     "data": {
      "text/html": [
       "<div>\n",
       "<style scoped>\n",
       "    .dataframe tbody tr th:only-of-type {\n",
       "        vertical-align: middle;\n",
       "    }\n",
       "\n",
       "    .dataframe tbody tr th {\n",
       "        vertical-align: top;\n",
       "    }\n",
       "\n",
       "    .dataframe thead th {\n",
       "        text-align: right;\n",
       "    }\n",
       "</style>\n",
       "<table border=\"1\" class=\"dataframe\">\n",
       "  <thead>\n",
       "    <tr style=\"text-align: right;\">\n",
       "      <th></th>\n",
       "      <th>review_id</th>\n",
       "      <th>title</th>\n",
       "      <th>year</th>\n",
       "      <th>user_review</th>\n",
       "      <th>user_suggestion</th>\n",
       "      <th>developer</th>\n",
       "      <th>publisher</th>\n",
       "      <th>tags</th>\n",
       "      <th>overview</th>\n",
       "      <th>polarity</th>\n",
       "      <th>subjectivity</th>\n",
       "    </tr>\n",
       "  </thead>\n",
       "  <tbody>\n",
       "    <tr>\n",
       "      <th>11264</th>\n",
       "      <td>16761</td>\n",
       "      <td>Eternal Card Game</td>\n",
       "      <td>2017.0</td>\n",
       "      <td>early access reviewdon waste your time on this...</td>\n",
       "      <td>0</td>\n",
       "      <td>Dire Wolf Digital</td>\n",
       "      <td>Dire Wolf Digital</td>\n",
       "      <td>['Free to Play', 'Card Game', 'Strategy', 'Tra...</td>\n",
       "      <td>The Game Has ChangedSix-guns and sorcery colli...</td>\n",
       "      <td>0.180076</td>\n",
       "      <td>0.431112</td>\n",
       "    </tr>\n",
       "    <tr>\n",
       "      <th>9117</th>\n",
       "      <td>12127</td>\n",
       "      <td>PlanetSide 2</td>\n",
       "      <td>2014.0</td>\n",
       "      <td>planetside is one of my favourite game by far ...</td>\n",
       "      <td>1</td>\n",
       "      <td>Daybreak Game Company</td>\n",
       "      <td>Daybreak Game Company</td>\n",
       "      <td>['Free to Play', 'Massively Multiplayer', 'FPS...</td>\n",
       "      <td>PlanetSide 2 is a free-to-play, massively mult...</td>\n",
       "      <td>0.195105</td>\n",
       "      <td>0.577914</td>\n",
       "    </tr>\n",
       "    <tr>\n",
       "      <th>4311</th>\n",
       "      <td>5707</td>\n",
       "      <td>Yu-Gi-Oh! Duel Links</td>\n",
       "      <td>2017.0</td>\n",
       "      <td>oh joy the speed dueling format lp enough one ...</td>\n",
       "      <td>0</td>\n",
       "      <td>Konami Digital Entertainment</td>\n",
       "      <td>Konami Digital Entertainment</td>\n",
       "      <td>['Free to Play', 'Card Game', 'Anime', 'Multip...</td>\n",
       "      <td>Take on Duelists around the world with \"Yu-Gi-...</td>\n",
       "      <td>0.190816</td>\n",
       "      <td>0.535658</td>\n",
       "    </tr>\n",
       "    <tr>\n",
       "      <th>501</th>\n",
       "      <td>502</td>\n",
       "      <td>Sakura Clicker</td>\n",
       "      <td>2015.0</td>\n",
       "      <td>a great free to play experience for anyone a l...</td>\n",
       "      <td>1</td>\n",
       "      <td>Winged Cloud</td>\n",
       "      <td>Winged Cloud</td>\n",
       "      <td>['Nudity', 'Anime', 'Free to Play', 'Mature', ...</td>\n",
       "      <td>The latest entry in the Sakura series is more ...</td>\n",
       "      <td>0.187500</td>\n",
       "      <td>0.543750</td>\n",
       "    </tr>\n",
       "    <tr>\n",
       "      <th>16563</th>\n",
       "      <td>24532</td>\n",
       "      <td>Bloons TD Battles</td>\n",
       "      <td>2017.0</td>\n",
       "      <td>fun but they charge too much money to upgrade ...</td>\n",
       "      <td>0</td>\n",
       "      <td>Ninja Kiwi</td>\n",
       "      <td>Ninja Kiwi</td>\n",
       "      <td>['Free to Play', 'Tower Defense', 'Multiplayer...</td>\n",
       "      <td>Play the top-rated tower defense franchise in ...</td>\n",
       "      <td>-0.025000</td>\n",
       "      <td>0.462500</td>\n",
       "    </tr>\n",
       "  </tbody>\n",
       "</table>\n",
       "</div>"
      ],
      "text/plain": [
       "       review_id                 title    year  \\\n",
       "11264      16761     Eternal Card Game  2017.0   \n",
       "9117       12127          PlanetSide 2  2014.0   \n",
       "4311        5707  Yu-Gi-Oh! Duel Links  2017.0   \n",
       "501          502        Sakura Clicker  2015.0   \n",
       "16563      24532     Bloons TD Battles  2017.0   \n",
       "\n",
       "                                             user_review  user_suggestion  \\\n",
       "11264  early access reviewdon waste your time on this...                0   \n",
       "9117   planetside is one of my favourite game by far ...                1   \n",
       "4311   oh joy the speed dueling format lp enough one ...                0   \n",
       "501    a great free to play experience for anyone a l...                1   \n",
       "16563  fun but they charge too much money to upgrade ...                0   \n",
       "\n",
       "                           developer                      publisher  \\\n",
       "11264             Dire Wolf Digital              Dire Wolf Digital    \n",
       "9117          Daybreak Game Company          Daybreak Game Company    \n",
       "4311   Konami Digital Entertainment   Konami Digital Entertainment    \n",
       "501                    Winged Cloud                   Winged Cloud    \n",
       "16563                    Ninja Kiwi                     Ninja Kiwi    \n",
       "\n",
       "                                                    tags  \\\n",
       "11264  ['Free to Play', 'Card Game', 'Strategy', 'Tra...   \n",
       "9117   ['Free to Play', 'Massively Multiplayer', 'FPS...   \n",
       "4311   ['Free to Play', 'Card Game', 'Anime', 'Multip...   \n",
       "501    ['Nudity', 'Anime', 'Free to Play', 'Mature', ...   \n",
       "16563  ['Free to Play', 'Tower Defense', 'Multiplayer...   \n",
       "\n",
       "                                                overview  polarity  \\\n",
       "11264  The Game Has ChangedSix-guns and sorcery colli...  0.180076   \n",
       "9117   PlanetSide 2 is a free-to-play, massively mult...  0.195105   \n",
       "4311   Take on Duelists around the world with \"Yu-Gi-...  0.190816   \n",
       "501    The latest entry in the Sakura series is more ...  0.187500   \n",
       "16563  Play the top-rated tower defense franchise in ... -0.025000   \n",
       "\n",
       "       subjectivity  \n",
       "11264      0.431112  \n",
       "9117       0.577914  \n",
       "4311       0.535658  \n",
       "501        0.543750  \n",
       "16563      0.462500  "
      ]
     },
     "execution_count": 35,
     "metadata": {},
     "output_type": "execute_result"
    }
   ],
   "source": [
    "df.sample(5)"
   ]
  },
  {
   "cell_type": "code",
   "execution_count": null,
   "metadata": {},
   "outputs": [],
   "source": [
    "# Classifying polarity"
   ]
  },
  {
   "cell_type": "code",
   "execution_count": 11,
   "metadata": {},
   "outputs": [],
   "source": [
    "def sentiment(df):\n",
    "    if df['polarity'] > 0:\n",
    "        val = \"Positive\"\n",
    "    elif df['polarity'] == 0:\n",
    "        val = \"Neutral\"\n",
    "    else:\n",
    "        val = \"Negative\"\n",
    "    return val"
   ]
  },
  {
   "cell_type": "code",
   "execution_count": 12,
   "metadata": {},
   "outputs": [],
   "source": [
    "df['sentiment_type'] = df.apply(sentiment, axis=1)"
   ]
  },
  {
   "cell_type": "code",
   "execution_count": null,
   "metadata": {},
   "outputs": [],
   "source": [
    "# Lets have a look at the dataset"
   ]
  },
  {
   "cell_type": "code",
   "execution_count": 38,
   "metadata": {},
   "outputs": [
    {
     "data": {
      "text/html": [
       "<div>\n",
       "<style scoped>\n",
       "    .dataframe tbody tr th:only-of-type {\n",
       "        vertical-align: middle;\n",
       "    }\n",
       "\n",
       "    .dataframe tbody tr th {\n",
       "        vertical-align: top;\n",
       "    }\n",
       "\n",
       "    .dataframe thead th {\n",
       "        text-align: right;\n",
       "    }\n",
       "</style>\n",
       "<table border=\"1\" class=\"dataframe\">\n",
       "  <thead>\n",
       "    <tr style=\"text-align: right;\">\n",
       "      <th></th>\n",
       "      <th>review_id</th>\n",
       "      <th>title</th>\n",
       "      <th>year</th>\n",
       "      <th>user_review</th>\n",
       "      <th>user_suggestion</th>\n",
       "      <th>developer</th>\n",
       "      <th>publisher</th>\n",
       "      <th>tags</th>\n",
       "      <th>overview</th>\n",
       "      <th>polarity</th>\n",
       "      <th>subjectivity</th>\n",
       "      <th>sentiment_type</th>\n",
       "    </tr>\n",
       "  </thead>\n",
       "  <tbody>\n",
       "    <tr>\n",
       "      <th>8278</th>\n",
       "      <td>11288</td>\n",
       "      <td>Neverwinter</td>\n",
       "      <td>2013.0</td>\n",
       "      <td>despite all the reaction you ll get from lover...</td>\n",
       "      <td>1</td>\n",
       "      <td>Cryptic Studios</td>\n",
       "      <td>Perfect World Entertainment</td>\n",
       "      <td>['Free to Play', 'MMORPG', 'RPG', 'Massively M...</td>\n",
       "      <td></td>\n",
       "      <td>2.058824e-02</td>\n",
       "      <td>0.518627</td>\n",
       "      <td>Positive</td>\n",
       "    </tr>\n",
       "    <tr>\n",
       "      <th>12080</th>\n",
       "      <td>17577</td>\n",
       "      <td>Bless Online</td>\n",
       "      <td>2018.0</td>\n",
       "      <td>early access reviewgame run fine for me idk wh...</td>\n",
       "      <td>1</td>\n",
       "      <td>NEOWIZ BLESS STUDIO</td>\n",
       "      <td>NEOWIZ</td>\n",
       "      <td>['MMORPG', 'Open World', 'Massively Multiplaye...</td>\n",
       "      <td>“We invite you all to the world of Bless Onlin...</td>\n",
       "      <td>1.604167e-01</td>\n",
       "      <td>0.473958</td>\n",
       "      <td>Positive</td>\n",
       "    </tr>\n",
       "    <tr>\n",
       "      <th>3203</th>\n",
       "      <td>3667</td>\n",
       "      <td>Ring of Elysium</td>\n",
       "      <td>2017.0</td>\n",
       "      <td>access reviewthe game is good and bugfree and ...</td>\n",
       "      <td>0</td>\n",
       "      <td>Aurora Studio</td>\n",
       "      <td>Tencent Games</td>\n",
       "      <td>['Early Access', 'Free to Play', 'Battle Royal...</td>\n",
       "      <td></td>\n",
       "      <td>-1.387779e-17</td>\n",
       "      <td>0.550000</td>\n",
       "      <td>Negative</td>\n",
       "    </tr>\n",
       "    <tr>\n",
       "      <th>8600</th>\n",
       "      <td>11610</td>\n",
       "      <td>Realm Royale</td>\n",
       "      <td>2018.0</td>\n",
       "      <td>early access reviewperfect for toaster before ...</td>\n",
       "      <td>0</td>\n",
       "      <td>Heroic Leap Games</td>\n",
       "      <td>Hi-Rez Studios</td>\n",
       "      <td>['Early Access', 'Battle Royale', 'Free to Pla...</td>\n",
       "      <td>Explore a fantasy world in Realm Royale, the n...</td>\n",
       "      <td>-1.500000e-01</td>\n",
       "      <td>0.350000</td>\n",
       "      <td>Negative</td>\n",
       "    </tr>\n",
       "    <tr>\n",
       "      <th>13721</th>\n",
       "      <td>19665</td>\n",
       "      <td>Creativerse</td>\n",
       "      <td>2016.0</td>\n",
       "      <td>early access reviewcreativerse is like minecra...</td>\n",
       "      <td>1</td>\n",
       "      <td>Playful Corp.</td>\n",
       "      <td>Playful Corp.</td>\n",
       "      <td>['Free to Play', 'Survival', 'Open World', 'Mu...</td>\n",
       "      <td>EMBARK ON A WONDROUS ADVENTUREWield the power ...</td>\n",
       "      <td>7.857143e-02</td>\n",
       "      <td>0.604286</td>\n",
       "      <td>Positive</td>\n",
       "    </tr>\n",
       "  </tbody>\n",
       "</table>\n",
       "</div>"
      ],
      "text/plain": [
       "       review_id            title    year  \\\n",
       "8278       11288      Neverwinter  2013.0   \n",
       "12080      17577     Bless Online  2018.0   \n",
       "3203        3667  Ring of Elysium  2017.0   \n",
       "8600       11610     Realm Royale  2018.0   \n",
       "13721      19665      Creativerse  2016.0   \n",
       "\n",
       "                                             user_review  user_suggestion  \\\n",
       "8278   despite all the reaction you ll get from lover...                1   \n",
       "12080  early access reviewgame run fine for me idk wh...                1   \n",
       "3203   access reviewthe game is good and bugfree and ...                0   \n",
       "8600   early access reviewperfect for toaster before ...                0   \n",
       "13721  early access reviewcreativerse is like minecra...                1   \n",
       "\n",
       "                  developer                     publisher  \\\n",
       "8278       Cryptic Studios   Perfect World Entertainment    \n",
       "12080  NEOWIZ BLESS STUDIO                        NEOWIZ    \n",
       "3203         Aurora Studio                 Tencent Games    \n",
       "8600     Heroic Leap Games                Hi-Rez Studios    \n",
       "13721        Playful Corp.                 Playful Corp.    \n",
       "\n",
       "                                                    tags  \\\n",
       "8278   ['Free to Play', 'MMORPG', 'RPG', 'Massively M...   \n",
       "12080  ['MMORPG', 'Open World', 'Massively Multiplaye...   \n",
       "3203   ['Early Access', 'Free to Play', 'Battle Royal...   \n",
       "8600   ['Early Access', 'Battle Royale', 'Free to Pla...   \n",
       "13721  ['Free to Play', 'Survival', 'Open World', 'Mu...   \n",
       "\n",
       "                                                overview      polarity  \\\n",
       "8278                                                      2.058824e-02   \n",
       "12080  “We invite you all to the world of Bless Onlin...  1.604167e-01   \n",
       "3203                                                     -1.387779e-17   \n",
       "8600   Explore a fantasy world in Realm Royale, the n... -1.500000e-01   \n",
       "13721  EMBARK ON A WONDROUS ADVENTUREWield the power ...  7.857143e-02   \n",
       "\n",
       "       subjectivity sentiment_type  \n",
       "8278       0.518627       Positive  \n",
       "12080      0.473958       Positive  \n",
       "3203       0.550000       Negative  \n",
       "8600       0.350000       Negative  \n",
       "13721      0.604286       Positive  "
      ]
     },
     "execution_count": 38,
     "metadata": {},
     "output_type": "execute_result"
    }
   ],
   "source": [
    "df.sample(5)"
   ]
  },
  {
   "cell_type": "code",
   "execution_count": null,
   "metadata": {},
   "outputs": [],
   "source": [
    "# Lets see the sentiment type col"
   ]
  },
  {
   "cell_type": "code",
   "execution_count": 43,
   "metadata": {},
   "outputs": [
    {
     "data": {
      "text/plain": [
       "<matplotlib.axes._subplots.AxesSubplot at 0x21d27d2cf60>"
      ]
     },
     "execution_count": 43,
     "metadata": {},
     "output_type": "execute_result"
    },
    {
     "data": {
      "image/png": "[encoded data removed]",
      "text/plain": [
       "<Figure size 432x288 with 1 Axes>"
      ]
     },
     "metadata": {
      "needs_background": "light"
     },
     "output_type": "display_data"
    }
   ],
   "source": [
    "sns.countplot(df[\"sentiment_type\"])"
   ]
  },
  {
   "cell_type": "code",
   "execution_count": null,
   "metadata": {},
   "outputs": [],
   "source": [
    "# Lets check the distribution in %"
   ]
  },
  {
   "cell_type": "code",
   "execution_count": 44,
   "metadata": {},
   "outputs": [
    {
     "data": {
      "text/plain": [
       "Positive    0.626215\n",
       "Negative    0.362010\n",
       "Neutral     0.011775\n",
       "Name: sentiment_type, dtype: float64"
      ]
     },
     "execution_count": 44,
     "metadata": {},
     "output_type": "execute_result"
    }
   ],
   "source": [
    "df.sentiment_type.value_counts(normalize=True)"
   ]
  },
  {
   "cell_type": "code",
   "execution_count": null,
   "metadata": {},
   "outputs": [],
   "source": [
    "# As asked in problem statement we need to predict whether a user recommends or not so in this case we need to classify our \n",
    "# sentiment type in 2 types "
   ]
  },
  {
   "cell_type": "code",
   "execution_count": 13,
   "metadata": {},
   "outputs": [],
   "source": [
    "def sentiment_classify(df):\n",
    "    if df['sentiment_type'] == \"Positive\":\n",
    "        val = 1\n",
    "    elif df['sentiment_type'] == \"Negative\":\n",
    "        val = 0\n",
    "    else:\n",
    "        val = 0\n",
    "    return val"
   ]
  },
  {
   "cell_type": "code",
   "execution_count": 14,
   "metadata": {},
   "outputs": [],
   "source": [
    "df['Recommend'] = df.apply(sentiment_classify, axis=1)"
   ]
  },
  {
   "cell_type": "code",
   "execution_count": null,
   "metadata": {},
   "outputs": [],
   "source": [
    "# Lets see the dataset with new values"
   ]
  },
  {
   "cell_type": "code",
   "execution_count": 48,
   "metadata": {},
   "outputs": [
    {
     "data": {
      "text/html": [
       "<div>\n",
       "<style scoped>\n",
       "    .dataframe tbody tr th:only-of-type {\n",
       "        vertical-align: middle;\n",
       "    }\n",
       "\n",
       "    .dataframe tbody tr th {\n",
       "        vertical-align: top;\n",
       "    }\n",
       "\n",
       "    .dataframe thead th {\n",
       "        text-align: right;\n",
       "    }\n",
       "</style>\n",
       "<table border=\"1\" class=\"dataframe\">\n",
       "  <thead>\n",
       "    <tr style=\"text-align: right;\">\n",
       "      <th></th>\n",
       "      <th>review_id</th>\n",
       "      <th>title</th>\n",
       "      <th>year</th>\n",
       "      <th>user_review</th>\n",
       "      <th>user_suggestion</th>\n",
       "      <th>developer</th>\n",
       "      <th>publisher</th>\n",
       "      <th>tags</th>\n",
       "      <th>overview</th>\n",
       "      <th>polarity</th>\n",
       "      <th>subjectivity</th>\n",
       "      <th>sentiment_type</th>\n",
       "      <th>Recommend</th>\n",
       "    </tr>\n",
       "  </thead>\n",
       "  <tbody>\n",
       "    <tr>\n",
       "      <th>14002</th>\n",
       "      <td>19946</td>\n",
       "      <td>Infestation: The New Z</td>\n",
       "      <td>2016.0</td>\n",
       "      <td>excellent graphic but the gameplay suck the ch...</td>\n",
       "      <td>0</td>\n",
       "      <td>Fredaikis AB</td>\n",
       "      <td>Fredaikis AB</td>\n",
       "      <td>['Zombies', 'Free to Play', 'Survival', 'Multi...</td>\n",
       "      <td>Infestation: The New Z is a FREE TO PLAY multi...</td>\n",
       "      <td>0.180000</td>\n",
       "      <td>0.400000</td>\n",
       "      <td>Positive</td>\n",
       "      <td>1</td>\n",
       "    </tr>\n",
       "    <tr>\n",
       "      <th>11265</th>\n",
       "      <td>16762</td>\n",
       "      <td>Eternal Card Game</td>\n",
       "      <td>2017.0</td>\n",
       "      <td>early access reviewthe game ai is stacked agai...</td>\n",
       "      <td>0</td>\n",
       "      <td>Dire Wolf Digital</td>\n",
       "      <td>Dire Wolf Digital</td>\n",
       "      <td>['Free to Play', 'Card Game', 'Strategy', 'Tra...</td>\n",
       "      <td>The Game Has ChangedSix-guns and sorcery colli...</td>\n",
       "      <td>0.030668</td>\n",
       "      <td>0.507840</td>\n",
       "      <td>Positive</td>\n",
       "      <td>1</td>\n",
       "    </tr>\n",
       "    <tr>\n",
       "      <th>8183</th>\n",
       "      <td>11193</td>\n",
       "      <td>Neverwinter</td>\n",
       "      <td>2016.0</td>\n",
       "      <td>this is is just awesome there are so many clas...</td>\n",
       "      <td>1</td>\n",
       "      <td>Cryptic Studios</td>\n",
       "      <td>Perfect World Entertainment</td>\n",
       "      <td>['Free to Play', 'MMORPG', 'RPG', 'Massively M...</td>\n",
       "      <td></td>\n",
       "      <td>0.244841</td>\n",
       "      <td>0.560582</td>\n",
       "      <td>Positive</td>\n",
       "      <td>1</td>\n",
       "    </tr>\n",
       "  </tbody>\n",
       "</table>\n",
       "</div>"
      ],
      "text/plain": [
       "       review_id                   title    year  \\\n",
       "14002      19946  Infestation: The New Z  2016.0   \n",
       "11265      16762       Eternal Card Game  2017.0   \n",
       "8183       11193             Neverwinter  2016.0   \n",
       "\n",
       "                                             user_review  user_suggestion  \\\n",
       "14002  excellent graphic but the gameplay suck the ch...                0   \n",
       "11265  early access reviewthe game ai is stacked agai...                0   \n",
       "8183   this is is just awesome there are so many clas...                1   \n",
       "\n",
       "                developer                     publisher  \\\n",
       "14002       Fredaikis AB                  Fredaikis AB    \n",
       "11265  Dire Wolf Digital             Dire Wolf Digital    \n",
       "8183     Cryptic Studios   Perfect World Entertainment    \n",
       "\n",
       "                                                    tags  \\\n",
       "14002  ['Zombies', 'Free to Play', 'Survival', 'Multi...   \n",
       "11265  ['Free to Play', 'Card Game', 'Strategy', 'Tra...   \n",
       "8183   ['Free to Play', 'MMORPG', 'RPG', 'Massively M...   \n",
       "\n",
       "                                                overview  polarity  \\\n",
       "14002  Infestation: The New Z is a FREE TO PLAY multi...  0.180000   \n",
       "11265  The Game Has ChangedSix-guns and sorcery colli...  0.030668   \n",
       "8183                                                      0.244841   \n",
       "\n",
       "       subjectivity sentiment_type  Recommend  \n",
       "14002      0.400000       Positive          1  \n",
       "11265      0.507840       Positive          1  \n",
       "8183       0.560582       Positive          1  "
      ]
     },
     "execution_count": 48,
     "metadata": {},
     "output_type": "execute_result"
    }
   ],
   "source": [
    "df.sample(3)"
   ]
  },
  {
   "cell_type": "code",
   "execution_count": null,
   "metadata": {},
   "outputs": [],
   "source": [
    "# Lets check the distribution"
   ]
  },
  {
   "cell_type": "code",
   "execution_count": 50,
   "metadata": {},
   "outputs": [
    {
     "data": {
      "text/plain": [
       "<matplotlib.axes._subplots.AxesSubplot at 0x21d27cec198>"
      ]
     },
     "execution_count": 50,
     "metadata": {},
     "output_type": "execute_result"
    },
    {
     "data": {
      "image/png": "[encoded data removed]",
      "text/plain": [
       "<Figure size 432x288 with 1 Axes>"
      ]
     },
     "metadata": {
      "needs_background": "light"
     },
     "output_type": "display_data"
    }
   ],
   "source": [
    "sns.countplot(df[\"Recommend\"])"
   ]
  },
  {
   "cell_type": "code",
   "execution_count": null,
   "metadata": {},
   "outputs": [],
   "source": [
    "# Lets check the accuracy "
   ]
  },
  {
   "cell_type": "code",
   "execution_count": 15,
   "metadata": {},
   "outputs": [],
   "source": [
    "from sklearn.metrics import confusion_matrix,accuracy_score,classification_report"
   ]
  },
  {
   "cell_type": "code",
   "execution_count": 16,
   "metadata": {},
   "outputs": [
    {
     "data": {
      "text/plain": [
       "array([[4240, 3286],\n",
       "       [2299, 7669]], dtype=int64)"
      ]
     },
     "execution_count": 16,
     "metadata": {},
     "output_type": "execute_result"
    }
   ],
   "source": [
    "confusion_matrix(df[\"user_suggestion\"],df[\"Recommend\"])"
   ]
  },
  {
   "cell_type": "code",
   "execution_count": 17,
   "metadata": {},
   "outputs": [
    {
     "data": {
      "text/plain": [
       "0.6807476849205442"
      ]
     },
     "execution_count": 17,
     "metadata": {},
     "output_type": "execute_result"
    }
   ],
   "source": [
    "accuracy_score(df[\"user_suggestion\"],df[\"Recommend\"])"
   ]
  },
  {
   "cell_type": "code",
   "execution_count": 68,
   "metadata": {},
   "outputs": [
    {
     "data": {
      "text/plain": [
       "'              precision    recall  f1-score   support\\n\\n           0       0.65      0.56      0.60      7526\\n           1       0.70      0.77      0.73      9968\\n\\n    accuracy                           0.68     17494\\n   macro avg       0.67      0.67      0.67     17494\\nweighted avg       0.68      0.68      0.68     17494\\n'"
      ]
     },
     "execution_count": 68,
     "metadata": {},
     "output_type": "execute_result"
    }
   ],
   "source": [
    "classification_report(df[\"user_suggestion\"],df[\"Recommend\"])"
   ]
  },
  {
   "cell_type": "code",
   "execution_count": null,
   "metadata": {},
   "outputs": [],
   "source": [
    "# Lets apply the same processing on test data to predict sentiments"
   ]
  },
  {
   "cell_type": "code",
   "execution_count": 18,
   "metadata": {},
   "outputs": [],
   "source": [
    "test1=pd.read_csv(\"C://Users//acer//Desktop//1sem//python//JanatahackNLP//test.csv\")"
   ]
  },
  {
   "cell_type": "code",
   "execution_count": null,
   "metadata": {},
   "outputs": [],
   "source": [
    "# some random rows to have a feel of dataset"
   ]
  },
  {
   "cell_type": "code",
   "execution_count": 19,
   "metadata": {},
   "outputs": [
    {
     "data": {
      "text/html": [
       "<div>\n",
       "<style scoped>\n",
       "    .dataframe tbody tr th:only-of-type {\n",
       "        vertical-align: middle;\n",
       "    }\n",
       "\n",
       "    .dataframe tbody tr th {\n",
       "        vertical-align: top;\n",
       "    }\n",
       "\n",
       "    .dataframe thead th {\n",
       "        text-align: right;\n",
       "    }\n",
       "</style>\n",
       "<table border=\"1\" class=\"dataframe\">\n",
       "  <thead>\n",
       "    <tr style=\"text-align: right;\">\n",
       "      <th></th>\n",
       "      <th>review_id</th>\n",
       "      <th>title</th>\n",
       "      <th>year</th>\n",
       "      <th>user_review</th>\n",
       "    </tr>\n",
       "  </thead>\n",
       "  <tbody>\n",
       "    <tr>\n",
       "      <th>1195</th>\n",
       "      <td>5279</td>\n",
       "      <td>Star Trek Online</td>\n",
       "      <td>2017.0</td>\n",
       "      <td>awesome game really big world awesome designs ...</td>\n",
       "    </tr>\n",
       "    <tr>\n",
       "      <th>644</th>\n",
       "      <td>4728</td>\n",
       "      <td>World of Warships</td>\n",
       "      <td>2017.0</td>\n",
       "      <td>Great idea to finally make it accessible throu...</td>\n",
       "    </tr>\n",
       "    <tr>\n",
       "      <th>1707</th>\n",
       "      <td>6190</td>\n",
       "      <td>Paladins®</td>\n",
       "      <td>2016.0</td>\n",
       "      <td>Early Access ReviewPeople are comparing this t...</td>\n",
       "    </tr>\n",
       "    <tr>\n",
       "      <th>1678</th>\n",
       "      <td>6161</td>\n",
       "      <td>Paladins®</td>\n",
       "      <td>2017.0</td>\n",
       "      <td>Early Access Review(+) free overwatch      enj...</td>\n",
       "    </tr>\n",
       "    <tr>\n",
       "      <th>1267</th>\n",
       "      <td>5351</td>\n",
       "      <td>Star Trek Online</td>\n",
       "      <td>2017.0</td>\n",
       "      <td>Don't be fooled by what steam says - I sunk th...</td>\n",
       "    </tr>\n",
       "  </tbody>\n",
       "</table>\n",
       "</div>"
      ],
      "text/plain": [
       "      review_id              title    year  \\\n",
       "1195       5279   Star Trek Online  2017.0   \n",
       "644        4728  World of Warships  2017.0   \n",
       "1707       6190          Paladins®  2016.0   \n",
       "1678       6161          Paladins®  2017.0   \n",
       "1267       5351   Star Trek Online  2017.0   \n",
       "\n",
       "                                            user_review  \n",
       "1195  awesome game really big world awesome designs ...  \n",
       "644   Great idea to finally make it accessible throu...  \n",
       "1707  Early Access ReviewPeople are comparing this t...  \n",
       "1678  Early Access Review(+) free overwatch      enj...  \n",
       "1267  Don't be fooled by what steam says - I sunk th...  "
      ]
     },
     "execution_count": 19,
     "metadata": {},
     "output_type": "execute_result"
    }
   ],
   "source": [
    "test1.sample(5)"
   ]
  },
  {
   "cell_type": "code",
   "execution_count": null,
   "metadata": {},
   "outputs": [],
   "source": [
    "# shape of dataset"
   ]
  },
  {
   "cell_type": "code",
   "execution_count": 20,
   "metadata": {},
   "outputs": [
    {
     "data": {
      "text/plain": [
       "(8045, 4)"
      ]
     },
     "execution_count": 20,
     "metadata": {},
     "output_type": "execute_result"
    }
   ],
   "source": [
    "test1.shape"
   ]
  },
  {
   "cell_type": "code",
   "execution_count": null,
   "metadata": {},
   "outputs": [],
   "source": [
    "# Loading second part of dataset"
   ]
  },
  {
   "cell_type": "code",
   "execution_count": 21,
   "metadata": {},
   "outputs": [],
   "source": [
    "test2=pd.read_csv(\"C://Users//acer//Desktop//1sem//python//JanatahackNLP//game.csv\")"
   ]
  },
  {
   "cell_type": "code",
   "execution_count": null,
   "metadata": {},
   "outputs": [],
   "source": [
    "# Merge both dataset"
   ]
  },
  {
   "cell_type": "code",
   "execution_count": 23,
   "metadata": {},
   "outputs": [],
   "source": [
    "fd=pd.merge(test1,test2,on=\"title\")"
   ]
  },
  {
   "cell_type": "code",
   "execution_count": null,
   "metadata": {},
   "outputs": [],
   "source": [
    "# detailed summary of dataset"
   ]
  },
  {
   "cell_type": "code",
   "execution_count": 24,
   "metadata": {},
   "outputs": [
    {
     "data": {
      "text/html": [
       "<div>\n",
       "<style scoped>\n",
       "    .dataframe tbody tr th:only-of-type {\n",
       "        vertical-align: middle;\n",
       "    }\n",
       "\n",
       "    .dataframe tbody tr th {\n",
       "        vertical-align: top;\n",
       "    }\n",
       "\n",
       "    .dataframe thead th {\n",
       "        text-align: right;\n",
       "    }\n",
       "</style>\n",
       "<table border=\"1\" class=\"dataframe\">\n",
       "  <thead>\n",
       "    <tr style=\"text-align: right;\">\n",
       "      <th></th>\n",
       "      <th>TotalMissing</th>\n",
       "      <th>%Missing</th>\n",
       "      <th>DataType</th>\n",
       "      <th>Unique</th>\n",
       "    </tr>\n",
       "  </thead>\n",
       "  <tbody>\n",
       "    <tr>\n",
       "      <th>review_id</th>\n",
       "      <td>0</td>\n",
       "      <td>0.000000</td>\n",
       "      <td>int64</td>\n",
       "      <td>8045</td>\n",
       "    </tr>\n",
       "    <tr>\n",
       "      <th>title</th>\n",
       "      <td>0</td>\n",
       "      <td>0.000000</td>\n",
       "      <td>object</td>\n",
       "      <td>20</td>\n",
       "    </tr>\n",
       "    <tr>\n",
       "      <th>year</th>\n",
       "      <td>67</td>\n",
       "      <td>0.008328</td>\n",
       "      <td>float64</td>\n",
       "      <td>8</td>\n",
       "    </tr>\n",
       "    <tr>\n",
       "      <th>user_review</th>\n",
       "      <td>0</td>\n",
       "      <td>0.000000</td>\n",
       "      <td>object</td>\n",
       "      <td>8045</td>\n",
       "    </tr>\n",
       "    <tr>\n",
       "      <th>developer</th>\n",
       "      <td>0</td>\n",
       "      <td>0.000000</td>\n",
       "      <td>object</td>\n",
       "      <td>19</td>\n",
       "    </tr>\n",
       "    <tr>\n",
       "      <th>publisher</th>\n",
       "      <td>0</td>\n",
       "      <td>0.000000</td>\n",
       "      <td>object</td>\n",
       "      <td>19</td>\n",
       "    </tr>\n",
       "    <tr>\n",
       "      <th>tags</th>\n",
       "      <td>0</td>\n",
       "      <td>0.000000</td>\n",
       "      <td>object</td>\n",
       "      <td>20</td>\n",
       "    </tr>\n",
       "    <tr>\n",
       "      <th>overview</th>\n",
       "      <td>0</td>\n",
       "      <td>0.000000</td>\n",
       "      <td>object</td>\n",
       "      <td>20</td>\n",
       "    </tr>\n",
       "  </tbody>\n",
       "</table>\n",
       "</div>"
      ],
      "text/plain": [
       "             TotalMissing  %Missing DataType  Unique\n",
       "review_id               0  0.000000    int64    8045\n",
       "title                   0  0.000000   object      20\n",
       "year                   67  0.008328  float64       8\n",
       "user_review             0  0.000000   object    8045\n",
       "developer               0  0.000000   object      19\n",
       "publisher               0  0.000000   object      19\n",
       "tags                    0  0.000000   object      20\n",
       "overview                0  0.000000   object      20"
      ]
     },
     "execution_count": 24,
     "metadata": {},
     "output_type": "execute_result"
    }
   ],
   "source": [
    "pd.DataFrame({\"TotalMissing\":fd.isna().sum(),\"%Missing\":fd.isna().mean(),\"DataType\":fd.dtypes,\"Unique\":fd.nunique()})"
   ]
  },
  {
   "cell_type": "code",
   "execution_count": null,
   "metadata": {},
   "outputs": [],
   "source": [
    "# Imputing median in year col"
   ]
  },
  {
   "cell_type": "code",
   "execution_count": 26,
   "metadata": {},
   "outputs": [],
   "source": [
    "fd.year.fillna(fd.year.median(),inplace=True)"
   ]
  },
  {
   "cell_type": "code",
   "execution_count": null,
   "metadata": {},
   "outputs": [],
   "source": [
    "# converting the review to string"
   ]
  },
  {
   "cell_type": "code",
   "execution_count": 28,
   "metadata": {},
   "outputs": [],
   "source": [
    "fd[\"user_review\"]=fd.user_review.astype(str)"
   ]
  },
  {
   "cell_type": "code",
   "execution_count": null,
   "metadata": {},
   "outputs": [],
   "source": [
    "# Lets start processing all review given by users"
   ]
  },
  {
   "cell_type": "code",
   "execution_count": 29,
   "metadata": {},
   "outputs": [],
   "source": [
    "def clean_data(data,column_name):\n",
    "    documents = []\n",
    "    document1 = ''\n",
    "\n",
    "    stemmer = WordNetLemmatizer()\n",
    "\n",
    "    for sen in range(0, len(data)):  \n",
    "        # Remove all the special characters\n",
    "        document = re.sub(r'\\W', ' ', str(data[sen]))\n",
    "\n",
    "        # remove all single characters\n",
    "        document = re.sub(r'\\s+[a-zA-Z]\\s+', ' ', document)\n",
    "\n",
    "        # Remove single characters from the start\n",
    "        document = re.sub(r'\\^[a-zA-Z]\\s+', ' ', document) \n",
    "\n",
    "        # Substituting multiple spaces with single space\n",
    "        document = re.sub(r'\\s+', ' ', document, flags=re.I)\n",
    "\n",
    "        # Removing prefixed 'b'\n",
    "        document = re.sub(r'^b\\s+', '', document)\n",
    "    \n",
    "        document = re.sub(r'[0-9]+',\"\", document)\n",
    "\n",
    "        # Converting to Lowercase\n",
    "        document = document.lower()\n",
    "\n",
    "        # Lemmatization\n",
    "        document = document.split()\n",
    "\n",
    "        document = [stemmer.lemmatize(word) for word in document]\n",
    "        document = ' '.join(document)\n",
    "        documents.append(document)\n",
    "        df.at[sen,column_name] = document"
   ]
  },
  {
   "cell_type": "code",
   "execution_count": 30,
   "metadata": {},
   "outputs": [],
   "source": [
    "clean_data(fd[\"user_review\"],\"user_review\")"
   ]
  },
  {
   "cell_type": "code",
   "execution_count": null,
   "metadata": {},
   "outputs": [],
   "source": [
    "# Lets predict polarity"
   ]
  },
  {
   "cell_type": "code",
   "execution_count": 31,
   "metadata": {},
   "outputs": [],
   "source": [
    "fd['polarity'] = fd.apply(lambda x: TextBlob(x['user_review']).sentiment.polarity, axis=1)"
   ]
  },
  {
   "cell_type": "code",
   "execution_count": null,
   "metadata": {},
   "outputs": [],
   "source": [
    "# Lets predict subjectivity"
   ]
  },
  {
   "cell_type": "code",
   "execution_count": 32,
   "metadata": {},
   "outputs": [],
   "source": [
    "fd['subjectivity'] = fd.apply(lambda x: TextBlob(x['user_review']).sentiment.subjectivity, axis=1)"
   ]
  },
  {
   "cell_type": "code",
   "execution_count": null,
   "metadata": {},
   "outputs": [],
   "source": [
    "# classifying polarity"
   ]
  },
  {
   "cell_type": "code",
   "execution_count": 34,
   "metadata": {},
   "outputs": [],
   "source": [
    "def sentiment(fd):\n",
    "    if fd['polarity'] > 0:\n",
    "        val = \"Positive\"\n",
    "    elif fd['polarity'] == 0:\n",
    "        val = \"Neutral\"\n",
    "    else:\n",
    "        val = \"Negative\"\n",
    "    return val"
   ]
  },
  {
   "cell_type": "code",
   "execution_count": null,
   "metadata": {},
   "outputs": [],
   "source": [
    "# applying this function "
   ]
  },
  {
   "cell_type": "code",
   "execution_count": 35,
   "metadata": {},
   "outputs": [],
   "source": [
    "fd['sentiment_type'] = fd.apply(sentiment, axis=1)"
   ]
  },
  {
   "cell_type": "code",
   "execution_count": null,
   "metadata": {},
   "outputs": [],
   "source": [
    "# As asked in problem statement we need to predict whether a user recommends or not so in this case we need to classify our \n",
    "# sentiment type in 2 types "
   ]
  },
  {
   "cell_type": "code",
   "execution_count": 36,
   "metadata": {},
   "outputs": [],
   "source": [
    "def sentiment_classify(fd):\n",
    "    if fd['sentiment_type'] == \"Positive\":\n",
    "        val = 1\n",
    "    elif fd['sentiment_type'] == \"Negative\":\n",
    "        val = 0\n",
    "    else:\n",
    "        val = 0\n",
    "    return val"
   ]
  },
  {
   "cell_type": "code",
   "execution_count": 37,
   "metadata": {},
   "outputs": [],
   "source": [
    "fd['Recommend'] = fd.apply(sentiment_classify, axis=1)"
   ]
  },
  {
   "cell_type": "code",
   "execution_count": null,
   "metadata": {},
   "outputs": [],
   "source": [
    "# Lets look at the dataset"
   ]
  },
  {
   "cell_type": "code",
   "execution_count": 38,
   "metadata": {},
   "outputs": [
    {
     "data": {
      "text/html": [
       "<div>\n",
       "<style scoped>\n",
       "    .dataframe tbody tr th:only-of-type {\n",
       "        vertical-align: middle;\n",
       "    }\n",
       "\n",
       "    .dataframe tbody tr th {\n",
       "        vertical-align: top;\n",
       "    }\n",
       "\n",
       "    .dataframe thead th {\n",
       "        text-align: right;\n",
       "    }\n",
       "</style>\n",
       "<table border=\"1\" class=\"dataframe\">\n",
       "  <thead>\n",
       "    <tr style=\"text-align: right;\">\n",
       "      <th></th>\n",
       "      <th>review_id</th>\n",
       "      <th>title</th>\n",
       "      <th>year</th>\n",
       "      <th>user_review</th>\n",
       "      <th>developer</th>\n",
       "      <th>publisher</th>\n",
       "      <th>tags</th>\n",
       "      <th>overview</th>\n",
       "      <th>polarity</th>\n",
       "      <th>subjectivity</th>\n",
       "      <th>sentiment_type</th>\n",
       "      <th>Recommend</th>\n",
       "    </tr>\n",
       "  </thead>\n",
       "  <tbody>\n",
       "    <tr>\n",
       "      <th>1447</th>\n",
       "      <td>5930</td>\n",
       "      <td>Paladins®</td>\n",
       "      <td>2017.0</td>\n",
       "      <td>Early Access ReviewWhat the actual fu*k? Why d...</td>\n",
       "      <td>Evil Mojo Games</td>\n",
       "      <td>Hi-Rez Studios</td>\n",
       "      <td>['Free to Play', 'Multiplayer', 'FPS', 'Shoote...</td>\n",
       "      <td>Join 25+ million players in Paladins, the free...</td>\n",
       "      <td>-0.100000</td>\n",
       "      <td>0.266667</td>\n",
       "      <td>Negative</td>\n",
       "      <td>0</td>\n",
       "    </tr>\n",
       "    <tr>\n",
       "      <th>4130</th>\n",
       "      <td>14174</td>\n",
       "      <td>Fishing Planet</td>\n",
       "      <td>2015.0</td>\n",
       "      <td>Early Access ReviewGame is in the early stages...</td>\n",
       "      <td>Fishing Planet LLC</td>\n",
       "      <td>Fishing Planet LLC</td>\n",
       "      <td>['Free to Play', 'Fishing', 'Simulation', 'Mul...</td>\n",
       "      <td>Fishing Planet® is a unique and highly realist...</td>\n",
       "      <td>0.122500</td>\n",
       "      <td>0.397500</td>\n",
       "      <td>Positive</td>\n",
       "      <td>1</td>\n",
       "    </tr>\n",
       "    <tr>\n",
       "      <th>474</th>\n",
       "      <td>4558</td>\n",
       "      <td>World of Warships</td>\n",
       "      <td>2018.0</td>\n",
       "      <td>If you have an existing account on battlenet d...</td>\n",
       "      <td>Wargaming Group Limited</td>\n",
       "      <td>Wargaming Group Limited</td>\n",
       "      <td>['Free to Play', 'Naval', 'World War II', 'Mul...</td>\n",
       "      <td>Over 200 historic naval vessels are yours to c...</td>\n",
       "      <td>-0.241667</td>\n",
       "      <td>0.465625</td>\n",
       "      <td>Negative</td>\n",
       "      <td>0</td>\n",
       "    </tr>\n",
       "    <tr>\n",
       "      <th>1190</th>\n",
       "      <td>5274</td>\n",
       "      <td>Star Trek Online</td>\n",
       "      <td>2014.0</td>\n",
       "      <td>Really not a bad game. im by no means a avid s...</td>\n",
       "      <td>Cryptic Studios</td>\n",
       "      <td>Perfect World Entertainment</td>\n",
       "      <td>['Free to Play', 'Sci-fi', 'Massively Multipla...</td>\n",
       "      <td></td>\n",
       "      <td>0.283333</td>\n",
       "      <td>0.711111</td>\n",
       "      <td>Positive</td>\n",
       "      <td>1</td>\n",
       "    </tr>\n",
       "    <tr>\n",
       "      <th>661</th>\n",
       "      <td>4745</td>\n",
       "      <td>World of Warships</td>\n",
       "      <td>2018.0</td>\n",
       "      <td>Same problem as another reviewer. I was restri...</td>\n",
       "      <td>Wargaming Group Limited</td>\n",
       "      <td>Wargaming Group Limited</td>\n",
       "      <td>['Free to Play', 'Naval', 'World War II', 'Mul...</td>\n",
       "      <td>Over 200 historic naval vessels are yours to c...</td>\n",
       "      <td>-0.030000</td>\n",
       "      <td>0.505000</td>\n",
       "      <td>Negative</td>\n",
       "      <td>0</td>\n",
       "    </tr>\n",
       "  </tbody>\n",
       "</table>\n",
       "</div>"
      ],
      "text/plain": [
       "      review_id              title    year  \\\n",
       "1447       5930          Paladins®  2017.0   \n",
       "4130      14174     Fishing Planet  2015.0   \n",
       "474        4558  World of Warships  2018.0   \n",
       "1190       5274   Star Trek Online  2014.0   \n",
       "661        4745  World of Warships  2018.0   \n",
       "\n",
       "                                            user_review  \\\n",
       "1447  Early Access ReviewWhat the actual fu*k? Why d...   \n",
       "4130  Early Access ReviewGame is in the early stages...   \n",
       "474   If you have an existing account on battlenet d...   \n",
       "1190  Really not a bad game. im by no means a avid s...   \n",
       "661   Same problem as another reviewer. I was restri...   \n",
       "\n",
       "                     developer                     publisher  \\\n",
       "1447          Evil Mojo Games                Hi-Rez Studios    \n",
       "4130       Fishing Planet LLC            Fishing Planet LLC    \n",
       "474   Wargaming Group Limited       Wargaming Group Limited    \n",
       "1190          Cryptic Studios   Perfect World Entertainment    \n",
       "661   Wargaming Group Limited       Wargaming Group Limited    \n",
       "\n",
       "                                                   tags  \\\n",
       "1447  ['Free to Play', 'Multiplayer', 'FPS', 'Shoote...   \n",
       "4130  ['Free to Play', 'Fishing', 'Simulation', 'Mul...   \n",
       "474   ['Free to Play', 'Naval', 'World War II', 'Mul...   \n",
       "1190  ['Free to Play', 'Sci-fi', 'Massively Multipla...   \n",
       "661   ['Free to Play', 'Naval', 'World War II', 'Mul...   \n",
       "\n",
       "                                               overview  polarity  \\\n",
       "1447  Join 25+ million players in Paladins, the free... -0.100000   \n",
       "4130  Fishing Planet® is a unique and highly realist...  0.122500   \n",
       "474   Over 200 historic naval vessels are yours to c... -0.241667   \n",
       "1190                                                     0.283333   \n",
       "661   Over 200 historic naval vessels are yours to c... -0.030000   \n",
       "\n",
       "      subjectivity sentiment_type  Recommend  \n",
       "1447      0.266667       Negative          0  \n",
       "4130      0.397500       Positive          1  \n",
       "474       0.465625       Negative          0  \n",
       "1190      0.711111       Positive          1  \n",
       "661       0.505000       Negative          0  "
      ]
     },
     "execution_count": 38,
     "metadata": {},
     "output_type": "execute_result"
    }
   ],
   "source": [
    "fd.sample(5)"
   ]
  },
  {
   "cell_type": "code",
   "execution_count": null,
   "metadata": {},
   "outputs": [],
   "source": [
    "# lets prepare a submission file as asked in problem statement"
   ]
  },
  {
   "cell_type": "code",
   "execution_count": 40,
   "metadata": {},
   "outputs": [],
   "source": [
    "submission=fd[[\"review_id\",\"Recommend\"]]"
   ]
  },
  {
   "cell_type": "code",
   "execution_count": null,
   "metadata": {},
   "outputs": [],
   "source": [
    "# Lets rename the columns as required in problem statement"
   ]
  },
  {
   "cell_type": "code",
   "execution_count": 42,
   "metadata": {},
   "outputs": [
    {
     "name": "stderr",
     "output_type": "stream",
     "text": [
      "c:\\users\\acer\\appdata\\local\\programs\\python\\python36\\lib\\site-packages\\pandas\\core\\frame.py:4238: SettingWithCopyWarning: \n",
      "A value is trying to be set on a copy of a slice from a DataFrame\n",
      "\n",
      "See the caveats in the documentation: http://pandas.pydata.org/pandas-docs/stable/user_guide/indexing.html#returning-a-view-versus-a-copy\n",
      "  return super().rename(**kwargs)\n"
     ]
    }
   ],
   "source": [
    "submission.rename(columns={\"Recommend\":\"user_suggestion\"},inplace=True)"
   ]
  },
  {
   "cell_type": "code",
   "execution_count": null,
   "metadata": {},
   "outputs": [],
   "source": [
    "# Converting our predictions to csv"
   ]
  },
  {
   "cell_type": "code",
   "execution_count": 44,
   "metadata": {},
   "outputs": [],
   "source": [
    "submission.to_csv(\"JantaNLP1.csv\",index=False)"
   ]
  },
  {
   "cell_type": "code",
   "execution_count": null,
   "metadata": {},
   "outputs": [],
   "source": []
  },
  {
   "cell_type": "code",
   "execution_count": null,
   "metadata": {},
   "outputs": [],
   "source": []
  },
  {
   "cell_type": "code",
   "execution_count": null,
   "metadata": {},
   "outputs": [],
   "source": []
  },
  {
   "cell_type": "code",
   "execution_count": null,
   "metadata": {},
   "outputs": [],
   "source": []
  }
 ],
 "metadata": {
  "kernelspec": {
   "display_name": "Python 3",
   "language": "python",
   "name": "python3"
  },
  "language_info": {
   "codemirror_mode": {
    "name": "ipython",
    "version": 3
   },
   "file_extension": ".py",
   "mimetype": "text/x-python",
   "name": "python",
   "nbconvert_exporter": "python",
   "pygments_lexer": "ipython3",
   "version": "3.6.5"
  }
 },
 "nbformat": 4,
 "nbformat_minor": 2
}
